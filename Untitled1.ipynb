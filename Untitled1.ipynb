{
  "nbformat": 4,
  "nbformat_minor": 0,
  "metadata": {
    "colab": {
      "name": "Untitled1.ipynb",
      "provenance": [],
      "authorship_tag": "ABX9TyO52MUrgNx3uEDTYuHk9pNO",
      "include_colab_link": true
    },
    "kernelspec": {
      "name": "python3",
      "display_name": "Python 3"
    }
  },
  "cells": [
    {
      "cell_type": "markdown",
      "metadata": {
        "id": "view-in-github",
        "colab_type": "text"
      },
      "source": [
        "<a href=\"https://colab.research.google.com/github/Tchuissi/601-Introduction-of-Data-Science/blob/master/Untitled1.ipynb\" target=\"_parent\"><img src=\"https://colab.research.google.com/assets/colab-badge.svg\" alt=\"Open In Colab\"/></a>"
      ]
    },
    {
      "cell_type": "code",
      "metadata": {
        "id": "JfD3EUc0AHjL",
        "colab_type": "code",
        "colab": {}
      },
      "source": [
        ""
      ],
      "execution_count": null,
      "outputs": []
    },
    {
      "cell_type": "markdown",
      "metadata": {
        "id": "rko4nd3RAUpM",
        "colab_type": "text"
      },
      "source": [
        "#Assignment 1#"
      ]
    },
    {
      "cell_type": "markdown",
      "metadata": {
        "id": "823G6fNhAvOu",
        "colab_type": "text"
      },
      "source": [
        "**STEP 1**"
      ]
    },
    {
      "cell_type": "code",
      "metadata": {
        "id": "qJA_UIy9Gwna",
        "colab_type": "code",
        "colab": {}
      },
      "source": [
        "from random import *\n",
        "\n"
      ],
      "execution_count": 31,
      "outputs": []
    },
    {
      "cell_type": "code",
      "metadata": {
        "id": "ziKXev-RHqEL",
        "colab_type": "code",
        "colab": {
          "base_uri": "https://localhost:8080/",
          "height": 35
        },
        "outputId": "e24679e8-3af4-4167-a58f-1c4ffacbaf60"
      },
      "source": [
        "l30=[]  # creation of a list of 30 grades from 0 to 100 for the assignments\n",
        "\n",
        "for i in range(30):\n",
        "    l30.append (randint(0,100)) # creation of a list to select 30 integers from 0 to 100 randomly\n",
        "\n",
        "print(l30)"
      ],
      "execution_count": 32,
      "outputs": [
        {
          "output_type": "stream",
          "text": [
            "[99, 94, 55, 52, 9, 13, 40, 9, 3, 41, 93, 72, 24, 77, 4, 94, 2, 15, 17, 17, 94, 96, 40, 55, 40, 96, 45, 1, 55, 86]\n"
          ],
          "name": "stdout"
        }
      ]
    },
    {
      "cell_type": "code",
      "metadata": {
        "id": "S5Dpy4leMCrZ",
        "colab_type": "code",
        "colab": {
          "base_uri": "https://localhost:8080/",
          "height": 35
        },
        "outputId": "af795a40-5ddc-412d-80fd-edec148aff97"
      },
      "source": [
        "l10= sample(l30,10)   #selection of 10 integers randomly among the list of 30 integers\n",
        "\n",
        "print(l10)       "
      ],
      "execution_count": 33,
      "outputs": [
        {
          "output_type": "stream",
          "text": [
            "[1, 55, 40, 77, 96, 96, 9, 94, 86, 24]\n"
          ],
          "name": "stdout"
        }
      ]
    }
  ]
}