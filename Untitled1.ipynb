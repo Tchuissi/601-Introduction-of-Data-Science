{
  "nbformat": 4,
  "nbformat_minor": 0,
  "metadata": {
    "colab": {
      "name": "Untitled1.ipynb",
      "provenance": [],
      "authorship_tag": "ABX9TyOBhQTMpLpL1XmmUXWNoCkk",
      "include_colab_link": true
    },
    "kernelspec": {
      "name": "python3",
      "display_name": "Python 3"
    }
  },
  "cells": [
    {
      "cell_type": "markdown",
      "metadata": {
        "id": "view-in-github",
        "colab_type": "text"
      },
      "source": [
        "<a href=\"https://colab.research.google.com/github/Tchuissi/601-Introduction-of-Data-Science/blob/master/Untitled1.ipynb\" target=\"_parent\"><img src=\"https://colab.research.google.com/assets/colab-badge.svg\" alt=\"Open In Colab\"/></a>"
      ]
    },
    {
      "cell_type": "code",
      "metadata": {
        "id": "JfD3EUc0AHjL",
        "colab_type": "code",
        "colab": {}
      },
      "source": [
        ""
      ],
      "execution_count": null,
      "outputs": []
    },
    {
      "cell_type": "markdown",
      "metadata": {
        "id": "rko4nd3RAUpM",
        "colab_type": "text"
      },
      "source": [
        "#Assignment 1#"
      ]
    },
    {
      "cell_type": "markdown",
      "metadata": {
        "id": "823G6fNhAvOu",
        "colab_type": "text"
      },
      "source": [
        "**STEP 1: Creation of a list of 10 grades for the assignments**"
      ]
    },
    {
      "cell_type": "code",
      "metadata": {
        "id": "qJA_UIy9Gwna",
        "colab_type": "code",
        "colab": {}
      },
      "source": [
        "from random import *   # Importation of the module \"random\"\n",
        "\n"
      ],
      "execution_count": 31,
      "outputs": []
    },
    {
      "cell_type": "code",
      "metadata": {
        "id": "ziKXev-RHqEL",
        "colab_type": "code",
        "colab": {
          "base_uri": "https://localhost:8080/",
          "height": 35
        },
        "outputId": "8d4f527b-9cee-478d-fed0-acf4c6a47f4b"
      },
      "source": [
        "l30=[]  \n",
        "\n",
        "for i in range(30):\n",
        "    l30.append (randint(0,100)) # creation of a list to select 30 integers from 0 to 100 randomly\n",
        "\n",
        "print(\"30 assignements grades =\",l30)"
      ],
      "execution_count": 50,
      "outputs": [
        {
          "output_type": "stream",
          "text": [
            "30 assignements grades = [74, 19, 26, 30, 51, 25, 68, 35, 19, 55, 90, 60, 11, 76, 61, 39, 100, 7, 71, 63, 16, 77, 83, 90, 28, 16, 30, 51, 43, 59]\n"
          ],
          "name": "stdout"
        }
      ]
    },
    {
      "cell_type": "code",
      "metadata": {
        "id": "S5Dpy4leMCrZ",
        "colab_type": "code",
        "colab": {
          "base_uri": "https://localhost:8080/",
          "height": 35
        },
        "outputId": "383f15d1-9410-42fe-ddb3-41a97f1381b8"
      },
      "source": [
        "l10= sample(l30,10)   #selection of 10 integers randomly among the list of 30 integers\n",
        "\n",
        "print(\"10 assignments projects selected =\", l10)       "
      ],
      "execution_count": 51,
      "outputs": [
        {
          "output_type": "stream",
          "text": [
            "10 assignments projects selected = [71, 16, 90, 83, 63, 19, 28, 77, 43, 61]\n"
          ],
          "name": "stdout"
        }
      ]
    },
    {
      "cell_type": "markdown",
      "metadata": {
        "id": "-5iGrWvTPnhL",
        "colab_type": "text"
      },
      "source": [
        ""
      ]
    },
    {
      "cell_type": "code",
      "metadata": {
        "id": "AHTAMr6eOxb3",
        "colab_type": "code",
        "colab": {}
      },
      "source": [
        ""
      ],
      "execution_count": null,
      "outputs": []
    },
    {
      "cell_type": "markdown",
      "metadata": {
        "id": "BuTd1vIGOx2L",
        "colab_type": "text"
      },
      "source": [
        "**STEP 2: Creation of a list of 3 grades for the projects**"
      ]
    },
    {
      "cell_type": "code",
      "metadata": {
        "id": "Ae8k5Q9ZO5cD",
        "colab_type": "code",
        "colab": {
          "base_uri": "https://localhost:8080/",
          "height": 35
        },
        "outputId": "4a94864d-26da-4234-8684-d95d61d9a7f3"
      },
      "source": [
        "l3=[]\n",
        "\n",
        "for i in range(3):\n",
        "    l3.append (randint(0,100))\n",
        "\n",
        "print(\"Final projects grades =\", l3)"
      ],
      "execution_count": 46,
      "outputs": [
        {
          "output_type": "stream",
          "text": [
            "Final projects grades = [88, 8, 4]\n"
          ],
          "name": "stdout"
        }
      ]
    },
    {
      "cell_type": "markdown",
      "metadata": {
        "id": "DpcOTpBPPpjR",
        "colab_type": "text"
      },
      "source": [
        "**STEP 3: Creation of a list of 15  grades for the attendance**"
      ]
    },
    {
      "cell_type": "code",
      "metadata": {
        "id": "FieEDCfzPvOa",
        "colab_type": "code",
        "colab": {
          "base_uri": "https://localhost:8080/",
          "height": 35
        },
        "outputId": "a1d40a5e-3df9-440a-b962-8b634e9e647c"
      },
      "source": [
        "l15=[]\n",
        "\n",
        "for i in range(15):\n",
        "    l15.append (randint(0,1))   # 1 if the student is present, 0 otherwise\n",
        "\n",
        "print(l15)"
      ],
      "execution_count": 37,
      "outputs": [
        {
          "output_type": "stream",
          "text": [
            "[0, 1, 1, 1, 1, 0, 1, 1, 1, 1, 1, 1, 1, 0, 0]\n"
          ],
          "name": "stdout"
        }
      ]
    },
    {
      "cell_type": "code",
      "metadata": {
        "id": "0mEQcVtMRwyf",
        "colab_type": "code",
        "colab": {
          "base_uri": "https://localhost:8080/",
          "height": 35
        },
        "outputId": "73ca36c3-3bfa-497e-b410-eada20d4612b"
      },
      "source": [
        "L15=[i*100 for i in l15]  # final grade on a 100 scale\n",
        "\n",
        "print(\"Attendance grades =\",L15)"
      ],
      "execution_count": 52,
      "outputs": [
        {
          "output_type": "stream",
          "text": [
            "Attendance grades = [0, 100, 100, 100, 100, 0, 100, 100, 100, 100, 100, 100, 100, 0, 0]\n"
          ],
          "name": "stdout"
        }
      ]
    },
    {
      "cell_type": "markdown",
      "metadata": {
        "id": "Qw8fGsA8Tx6Y",
        "colab_type": "text"
      },
      "source": [
        "**STEP 4: Final course Grade**"
      ]
    }
  ]
}