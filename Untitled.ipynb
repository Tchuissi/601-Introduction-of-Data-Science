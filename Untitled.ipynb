{
  "nbformat": 4,
  "nbformat_minor": 0,
  "metadata": {
    "colab": {
      "name": "Untitled",
      "provenance": [],
      "toc_visible": true,
      "authorship_tag": "ABX9TyOKj+/5CClp7kCkIqYrYG4v",
      "include_colab_link": true
    },
    "kernelspec": {
      "name": "python3",
      "display_name": "Python 3"
    }
  },
  "cells": [
    {
      "cell_type": "markdown",
      "metadata": {
        "id": "view-in-github",
        "colab_type": "text"
      },
      "source": [
        "<a href=\"https://colab.research.google.com/github/Tchuissi/601-Introduction-of-Data-Science/blob/master/Untitled.ipynb\" target=\"_parent\"><img src=\"https://colab.research.google.com/assets/colab-badge.svg\" alt=\"Open In Colab\"/></a>"
      ]
    },
    {
      "cell_type": "markdown",
      "metadata": {
        "id": "TnKDpx63BXAx"
      },
      "source": [
        "#**Assignment 4**\n",
        "\n",
        "I provide you with a compressed XML file. Some of the fields contain HTML. ​\n",
        "\n",
        "- Extract the XML from the .zip file. In Python, use a module to parse the XML (do not write an XML parser)​\n",
        "\n",
        "- Using Python, extract the HTML from the XML. Then use BeautifulSoup4 to parse the HTML \n",
        "\n",
        "- For each HTML page, report the number of links (URLs with the tag < a href=\"URL\">text) in each HTML page \n",
        "\n",
        "- Submit a single Jupyter notebook that parses the XML file and produces the count of links per HTML file.​\n",
        "Advanced students: if you complete the assignment above and are are seeking a challenge, use an alternative method (i.e., regular expressions or Python's find) to validate the count of HTML links per page reported by BeautifulSoup4 .​ ​\n",
        "\n",
        "When you are done with the assignment or have spent an hour on the homework (whichever comes first), please send me an email indicating which of these you have reached​ ​\n",
        "\n",
        "To: jhwan@umbc.edu​\n",
        "\n",
        "Subject: Data 601 Fall 2020 Week 10 remove stop words​\n",
        "\n",
        "Examples of content: \"I have spent 1 hour on the homework\" or \"I am done with the assignment in 20 minutes.\"​\n",
        "\n",
        "If you've not completed the homework, please specify what your status is.​"
      ]
    },
    {
      "cell_type": "markdown",
      "metadata": {
        "id": "Ip03792jqsn8"
      },
      "source": [
        "#**Question 1**"
      ]
    },
    {
      "cell_type": "code",
      "metadata": {
        "id": "u_7uqbnemFl4"
      },
      "source": [
        "import csv \n",
        "import requests \n",
        "import xml.etree.ElementTree as ET \n"
      ],
      "execution_count": 5,
      "outputs": []
    },
    {
      "cell_type": "code",
      "metadata": {
        "id": "b3-rO8PPrOIB",
        "outputId": "ec2fd727-e182-4af4-f289-035e95c4c219",
        "colab": {
          "base_uri": "https://localhost:8080/",
          "height": 35
        }
      },
      "source": [
        "pip install beautifulsoup4   #in Google Colab, the library is already installed"
      ],
      "execution_count": 16,
      "outputs": [
        {
          "output_type": "stream",
          "text": [
            "Requirement already satisfied: beautifulsoup4 in /usr/local/lib/python3.6/dist-packages (4.6.3)\n"
          ],
          "name": "stdout"
        }
      ]
    },
    {
      "cell_type": "code",
      "metadata": {
        "id": "ENMPz7ORpMZI",
        "outputId": "2f0ca2d3-5a39-49f3-a6a6-80261e3b37d3",
        "colab": {
          "base_uri": "https://localhost:8080/",
          "height": 35
        }
      },
      "source": [
        "root = tree.getroot()     #it will take the first nod\n",
        "print(root)"
      ],
      "execution_count": 9,
      "outputs": [
        {
          "output_type": "stream",
          "text": [
            "<Element all_pages at 0x7f7fd9a58848>\n"
          ],
          "name": "stdout"
        }
      ]
    },
    {
      "cell_type": "code",
      "metadata": {
        "id": "ofFh48YcpTtY",
        "outputId": "000311e0-0366-439d-9140-e76349546da8",
        "colab": {
          "base_uri": "https://localhost:8080/",
          "height": 1000
        }
      },
      "source": [
        "for child in root:  #Parse the XML\n",
        "  #print(child)\n",
        "  for attributes in child:\n",
        "    if (attributes.tag==\"content\"):   #attributes have two elements: tag and text\n",
        "      soup=BeautifulSoup(attributes.text)\n",
        "     print(attributes)"
      ],
      "execution_count": 18,
      "outputs": [
        {
          "output_type": "stream",
          "text": [
            "<Element content at 0x7f7fd975ce48>\n",
            "<Element content at 0x7f7fd96dab88>\n",
            "<Element content at 0x7f7fd96dab08>\n",
            "<Element content at 0x7f7fd975ce48>\n",
            "<Element content at 0x7f7fd96dab88>\n",
            "<Element content at 0x7f7fd96dab08>\n",
            "<Element content at 0x7f7fd975ce48>\n",
            "<Element content at 0x7f7fd96dab88>\n",
            "<Element content at 0x7f7fd96dab08>\n",
            "<Element content at 0x7f7fd975ce48>\n",
            "<Element content at 0x7f7fd96dab88>\n",
            "<Element content at 0x7f7fd96dab08>\n",
            "<Element content at 0x7f7fd975ce48>\n",
            "<Element content at 0x7f7fd96dab88>\n",
            "<Element content at 0x7f7fd96dab08>\n",
            "<Element content at 0x7f7fd975ce48>\n",
            "<Element content at 0x7f7fd96dab88>\n",
            "<Element content at 0x7f7fd96dab08>\n",
            "<Element content at 0x7f7fd975ce48>\n",
            "<Element content at 0x7f7fd96dab88>\n",
            "<Element content at 0x7f7fd96dab08>\n",
            "<Element content at 0x7f7fd975ce48>\n",
            "<Element content at 0x7f7fd96dab88>\n",
            "<Element content at 0x7f7fd96dab08>\n",
            "<Element content at 0x7f7fd975ce48>\n",
            "<Element content at 0x7f7fd96dab88>\n",
            "<Element content at 0x7f7fd96dab08>\n",
            "<Element content at 0x7f7fd975ce48>\n",
            "<Element content at 0x7f7fd96dab88>\n",
            "<Element content at 0x7f7fd96dab08>\n",
            "<Element content at 0x7f7fd975ce48>\n",
            "<Element content at 0x7f7fd96dab88>\n",
            "<Element content at 0x7f7fd96dab08>\n",
            "<Element content at 0x7f7fd975ce48>\n",
            "<Element content at 0x7f7fd96dab88>\n",
            "<Element content at 0x7f7fd96dab08>\n",
            "<Element content at 0x7f7fd975ce48>\n",
            "<Element content at 0x7f7fd96dab88>\n",
            "<Element content at 0x7f7fd96dab08>\n",
            "<Element content at 0x7f7fd975ce48>\n",
            "<Element content at 0x7f7fd96dab88>\n",
            "<Element content at 0x7f7fd96dab08>\n",
            "<Element content at 0x7f7fd975ce48>\n",
            "<Element content at 0x7f7fd9779e48>\n",
            "<Element content at 0x7f7fd96dab88>\n",
            "<Element content at 0x7f7fd96dab08>\n",
            "<Element content at 0x7f7fd975ce48>\n",
            "<Element content at 0x7f7fd9779e48>\n",
            "<Element content at 0x7f7fd96dab88>\n",
            "<Element content at 0x7f7fd96dab08>\n",
            "<Element content at 0x7f7fd975ce48>\n",
            "<Element content at 0x7f7fd9779e48>\n",
            "<Element content at 0x7f7fd96dab88>\n",
            "<Element content at 0x7f7fd96dab08>\n",
            "<Element content at 0x7f7fd975ce48>\n",
            "<Element content at 0x7f7fd9779e48>\n",
            "<Element content at 0x7f7fd96dab88>\n",
            "<Element content at 0x7f7fd96dab08>\n",
            "<Element content at 0x7f7fd975ce48>\n",
            "<Element content at 0x7f7fd9779e48>\n",
            "<Element content at 0x7f7fd96dab88>\n",
            "<Element content at 0x7f7fd96dab08>\n",
            "<Element content at 0x7f7fd975ce48>\n",
            "<Element content at 0x7f7fd9779e48>\n",
            "<Element content at 0x7f7fd96dab88>\n",
            "<Element content at 0x7f7fd96dab08>\n",
            "<Element content at 0x7f7fd975ce48>\n",
            "<Element content at 0x7f7fd9779e48>\n",
            "<Element content at 0x7f7fd96dab88>\n",
            "<Element content at 0x7f7fd96dab08>\n",
            "<Element content at 0x7f7fd975ce48>\n",
            "<Element content at 0x7f7fd9779e48>\n",
            "<Element content at 0x7f7fd96dab88>\n",
            "<Element content at 0x7f7fd96dab08>\n",
            "<Element content at 0x7f7fd975ce48>\n",
            "<Element content at 0x7f7fd9779e48>\n",
            "<Element content at 0x7f7fd96dab88>\n",
            "<Element content at 0x7f7fd96dab08>\n",
            "<Element content at 0x7f7fd975ce48>\n",
            "<Element content at 0x7f7fd9779e48>\n",
            "<Element content at 0x7f7fd96dab88>\n",
            "<Element content at 0x7f7fd96dab08>\n",
            "<Element content at 0x7f7fd975ce48>\n",
            "<Element content at 0x7f7fd9779e48>\n",
            "<Element content at 0x7f7fd96dab88>\n",
            "<Element content at 0x7f7fd96dab08>\n",
            "<Element content at 0x7f7fd975ce48>\n",
            "<Element content at 0x7f7fd9779e48>\n",
            "<Element content at 0x7f7fd96dab88>\n",
            "<Element content at 0x7f7fd96dab08>\n",
            "<Element content at 0x7f7fd975ce48>\n",
            "<Element content at 0x7f7fd9779e48>\n",
            "<Element content at 0x7f7fd96dab88>\n",
            "<Element content at 0x7f7fd96dab08>\n",
            "<Element content at 0x7f7fd975ce48>\n",
            "<Element content at 0x7f7fd9779e48>\n",
            "<Element content at 0x7f7fd96dab88>\n",
            "<Element content at 0x7f7fd975ce48>\n",
            "<Element content at 0x7f7fd9779e48>\n",
            "<Element content at 0x7f7fd96dab08>\n",
            "<Element content at 0x7f7fd975ce48>\n",
            "<Element content at 0x7f7fd9779e48>\n",
            "<Element content at 0x7f7fd96dab88>\n",
            "<Element content at 0x7f7fd975ce48>\n",
            "<Element content at 0x7f7fd9779e48>\n",
            "<Element content at 0x7f7fd96dab08>\n",
            "<Element content at 0x7f7fd975ce48>\n",
            "<Element content at 0x7f7fd9779e48>\n",
            "<Element content at 0x7f7fd96dab88>\n",
            "<Element content at 0x7f7fd975ce48>\n",
            "<Element content at 0x7f7fd9779e48>\n",
            "<Element content at 0x7f7fd96dab08>\n",
            "<Element content at 0x7f7fd975ce48>\n",
            "<Element content at 0x7f7fd9779e48>\n",
            "<Element content at 0x7f7fd96dab88>\n",
            "<Element content at 0x7f7fd975ce48>\n",
            "<Element content at 0x7f7fd9779e48>\n",
            "<Element content at 0x7f7fd96dab08>\n",
            "<Element content at 0x7f7fd975ce48>\n",
            "<Element content at 0x7f7fd9779e48>\n",
            "<Element content at 0x7f7fd96dab88>\n",
            "<Element content at 0x7f7fd975ce48>\n",
            "<Element content at 0x7f7fd9779e48>\n",
            "<Element content at 0x7f7fd96dab08>\n",
            "<Element content at 0x7f7fd975ce48>\n"
          ],
          "name": "stdout"
        }
      ]
    },
    {
      "cell_type": "markdown",
      "metadata": {
        "id": "zrd_ALXdq4e6"
      },
      "source": [
        "#**Question 2**"
      ]
    },
    {
      "cell_type": "code",
      "metadata": {
        "id": "dvpjf1GMpX37"
      },
      "source": [
        ""
      ],
      "execution_count": null,
      "outputs": []
    },
    {
      "cell_type": "markdown",
      "metadata": {
        "id": "hoGhghG6k79e"
      },
      "source": [
        "# Nouvelle section"
      ]
    }
  ]
}