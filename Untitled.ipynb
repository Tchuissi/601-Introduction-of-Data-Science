{
  "nbformat": 4,
  "nbformat_minor": 0,
  "metadata": {
    "colab": {
      "name": "Untitled",
      "provenance": [],
      "toc_visible": true,
      "authorship_tag": "ABX9TyOKFwFF4wKTXSHwnunucZLU",
      "include_colab_link": true
    },
    "kernelspec": {
      "name": "python3",
      "display_name": "Python 3"
    }
  },
  "cells": [
    {
      "cell_type": "markdown",
      "metadata": {
        "id": "view-in-github",
        "colab_type": "text"
      },
      "source": [
        "<a href=\"https://colab.research.google.com/github/Tchuissi/601-Introduction-of-Data-Science/blob/master/Untitled.ipynb\" target=\"_parent\"><img src=\"https://colab.research.google.com/assets/colab-badge.svg\" alt=\"Open In Colab\"/></a>"
      ]
    },
    {
      "cell_type": "markdown",
      "metadata": {
        "id": "TnKDpx63BXAx"
      },
      "source": [
        "#**Assignment 4**\n",
        "\n",
        "I provide you with a compressed XML file. Some of the fields contain HTML. ​\n",
        "\n",
        "- Extract the XML from the .zip file. In Python, use a module to parse the XML (do not write an XML parser)​\n",
        "\n",
        "- Using Python, extract the HTML from the XML. Then use BeautifulSoup4 to parse the HTML \n",
        "\n",
        "- For each HTML page, report the number of links (URLs with the tag < a href=\"URL\">text) in each HTML page \n",
        "\n",
        "- Submit a single Jupyter notebook that parses the XML file and produces the count of links per HTML file.​\n",
        "Advanced students: if you complete the assignment above and are are seeking a challenge, use an alternative method (i.e., regular expressions or Python's find) to validate the count of HTML links per page reported by BeautifulSoup4 .​ ​\n",
        "\n",
        "When you are done with the assignment or have spent an hour on the homework (whichever comes first), please send me an email indicating which of these you have reached​ ​\n",
        "\n",
        "To: jhwan@umbc.edu​\n",
        "\n",
        "Subject: Data 601 Fall 2020 Week 10 remove stop words​\n",
        "\n",
        "Examples of content: \"I have spent 1 hour on the homework\" or \"I am done with the assignment in 20 minutes.\"​\n",
        "\n",
        "If you've not completed the homework, please specify what your status is.​"
      ]
    },
    {
      "cell_type": "markdown",
      "metadata": {
        "id": "Ip03792jqsn8"
      },
      "source": [
        "#**Question 1**"
      ]
    },
    {
      "cell_type": "code",
      "metadata": {
        "id": "u_7uqbnemFl4"
      },
      "source": [
        "import csv \n",
        "import requests \n",
        "import xml.etree.ElementTree as ET \n"
      ],
      "execution_count": 5,
      "outputs": []
    },
    {
      "cell_type": "code",
      "metadata": {
        "id": "b3-rO8PPrOIB",
        "outputId": "69d82395-d0ee-4540-f5a5-68ef958345b5",
        "colab": {
          "base_uri": "https://localhost:8080/",
          "height": 35
        }
      },
      "source": [
        "pip install beautifulsoup4   #in Google Colab, the library is already installed"
      ],
      "execution_count": 20,
      "outputs": [
        {
          "output_type": "stream",
          "text": [
            "Requirement already satisfied: beautifulsoup4 in /usr/local/lib/python3.6/dist-packages (4.6.3)\n"
          ],
          "name": "stdout"
        }
      ]
    },
    {
      "cell_type": "code",
      "metadata": {
        "id": "-HLaWs0XwcCV"
      },
      "source": [
        "from bs4 import BeautifulSoup"
      ],
      "execution_count": 22,
      "outputs": []
    },
    {
      "cell_type": "code",
      "metadata": {
        "id": "ENMPz7ORpMZI",
        "outputId": "28cc2e59-1e76-4143-c179-2dccf9d94cd4",
        "colab": {
          "base_uri": "https://localhost:8080/",
          "height": 35
        }
      },
      "source": [
        "root = tree.getroot()     #it will take the first nod\n",
        "print(root)"
      ],
      "execution_count": 21,
      "outputs": [
        {
          "output_type": "stream",
          "text": [
            "<Element all_pages at 0x7f7fd9a58848>\n"
          ],
          "name": "stdout"
        }
      ]
    },
    {
      "cell_type": "code",
      "metadata": {
        "id": "ofFh48YcpTtY",
        "outputId": "d3574fa1-f090-4671-a894-ec01a12cea12",
        "colab": {
          "base_uri": "https://localhost:8080/",
          "height": 1000
        }
      },
      "source": [
        "count=0\n",
        "for child in root:  #Parse the XML\n",
        "  #print(child)\n",
        "  for attributes in child:\n",
        "    if (attributes.tag==\"content\"):   #attributes have two elements: tag and text\n",
        "      count+= 1\n",
        "      print(count)\n",
        "      soup=BeautifulSoup(attributes.text)\n",
        "      print(soup.find_all('a'))\n",
        "     #print(attributes)"
      ],
      "execution_count": 27,
      "outputs": [
        {
          "output_type": "stream",
          "text": [
            "1\n",
            "[<a href=\"https://www.munoz-peterson.com/\">to</a>, <a href=\"https://www.munoz-peterson.com/\">to</a>, <a href=\"https://richardson.net/\">fact.</a>, <a href=\"https://smith.com/\">of</a>, <a href=\"https://smith.com/\">of</a>]\n",
            "2\n",
            "[<a href=\"http://carter.net/\">the</a>, <a href=\"http://carter.net/\">the</a>, <a href=\"http://huff-hudson.com/\">to</a>, <a href=\"http://huff-hudson.com/\">to</a>, <a href=\"https://fuentes.net/\">forms</a>]\n",
            "3\n",
            "[<a href=\"https://avila-thompson.com/\">quite</a>, <a href=\"https://avila-thompson.com/\">quite</a>, <a href=\"https://copeland.org/\">selectional</a>, <a href=\"http://www.grant-williamson.com/\">For</a>]\n",
            "4\n",
            "[<a href=\"https://james.com/\">a</a>, <a href=\"https://james.com/\">a</a>, <a href=\"http://www.mathews-moore.com/\">sets</a>, <a href=\"https://carter-powers.net/\">of</a>, <a href=\"https://carter-powers.net/\">of</a>]\n",
            "5\n",
            "[<a href=\"https://miller-grant.info/\">the</a>, <a href=\"https://miller-grant.info/\">the</a>, <a href=\"https://phillips-harris.com/\">in</a>, <a href=\"https://phillips-harris.com/\">in</a>, <a href=\"http://perez.info/\">constructions</a>]\n",
            "6\n",
            "[<a href=\"http://www.cook.com/\">property</a>, <a href=\"http://www.wilson-navarro.com/\">C1,</a>, <a href=\"https://www.young-davis.info/\">that</a>, <a href=\"https://www.young-davis.info/\">that</a>]\n",
            "7\n",
            "[<a href=\"http://weber-collins.com/\">virtual\n",
            "gibberish</a>, <a href=\"http://vang.org/\">consequence</a>, <a href=\"http://fuller.com/\">be</a>, <a href=\"http://fuller.com/\">be</a>]\n",
            "8\n",
            "[<a href=\"https://www.lee-blackburn.com/\">English</a>, <a href=\"http://www.jordan.com/\">case</a>, <a href=\"http://www.marshall.com/\">suggested</a>]\n",
            "9\n",
            "[<a href=\"https://www.bass.biz/\">defined</a>, <a href=\"https://fowler.biz/\">fundamental\n",
            "error</a>, <a href=\"http://estes.com/\">language</a>]\n",
            "10\n",
            "[<a href=\"http://stevenson.com/\">supporting</a>, <a href=\"http://hall-foley.com/\">the\n",
            "dominance</a>, <a href=\"https://www.crosby.biz/\">is</a>, <a href=\"https://www.crosby.biz/\">is</a>]\n",
            "11\n",
            "[<a href=\"http://hernandez.com/\">not</a>, <a href=\"http://hernandez.com/\">not</a>, <a href=\"http://www.holden.info/\">of</a>, <a href=\"http://www.holden.info/\">of</a>, <a href=\"http://www.ross.biz/\">not</a>, <a href=\"http://www.ross.biz/\">not</a>]\n",
            "12\n",
            "[<a href=\"http://www.chavez-bryant.com/\">Note</a>, <a href=\"https://wilson-miller.com/\">general</a>, <a href=\"http://www.bennett-murray.biz/\">Summarizing,</a>]\n",
            "13\n",
            "[<a href=\"https://www.harrison.com/\">utterance</a>, <a href=\"https://www.harrison.com/\">utterance</a>, <a href=\"http://www.scott.com/\">interesting</a>, <a href=\"https://www.payne.com/\">in</a>, <a href=\"https://www.payne.com/\">in</a>]\n",
            "14\n",
            "[<a href=\"https://www.hansen-flores.com/\">appearance</a>, <a href=\"https://www.vazquez-jones.com/\">a</a>, <a href=\"https://www.vazquez-jones.com/\">a</a>, <a href=\"http://conway.com/\">the</a>, <a href=\"http://conway.com/\">the</a>]\n",
            "15\n",
            "[<a href=\"https://www.cruz.com/\">these</a>, <a href=\"http://rojas.net/\">gap</a>, <a href=\"http://rojas.net/\">gap</a>, <a href=\"http://boyd.com/\">unspecified</a>]\n",
            "16\n",
            "[<a href=\"https://www.scott.biz/\">as</a>, <a href=\"https://www.scott.biz/\">as</a>, <a href=\"https://harmon-thomas.org/\">discussed</a>, <a href=\"http://smith-miller.com/\">sufficiently</a>]\n",
            "17\n",
            "[<a href=\"https://www.miller.info/\">system</a>, <a href=\"http://www.oconnell.biz/\">to</a>, <a href=\"http://www.oconnell.biz/\">to</a>, <a href=\"http://www.osborne.com/\">of</a>, <a href=\"http://www.osborne.com/\">of</a>]\n",
            "18\n",
            "[<a href=\"http://www.thomas.com/\">with</a>, <a href=\"http://www.thomas.com/\">with</a>, <a href=\"http://www.nelson.org/\">constructions</a>, <a href=\"http://www.jones.net/\">the</a>, <a href=\"http://www.jones.net/\">the</a>]\n",
            "19\n",
            "[<a href=\"https://anderson.biz/\">must</a>, <a href=\"http://www.becker-kelly.com/\">serious</a>, <a href=\"http://www.meadows.org/\">phonemic</a>]\n",
            "20\n",
            "[<a href=\"https://lee.com/\">(99c)</a>, <a href=\"https://smith.net/\">abstract</a>, <a href=\"https://mitchell.com/\">base</a>]\n",
            "21\n",
            "[<a href=\"https://campbell-sullivan.com/\">stipulation</a>, <a href=\"http://hernandez-dean.com/\">element\n",
            "suffices</a>, <a href=\"https://alexander-martinez.net/\">of</a>, <a href=\"https://alexander-martinez.net/\">of</a>]\n",
            "22\n",
            "[<a href=\"http://walter-jacobs.org/\">level</a>, <a href=\"https://www.dunn.com/\">which\n",
            "conformity</a>, <a href=\"https://lopez-bean.com/\">of\n",
            "the</a>]\n",
            "23\n",
            "[<a href=\"http://www.baird.net/\">utterance\n",
            "test.</a>, <a href=\"https://martinez.org/\">sense</a>, <a href=\"http://davenport.com/\">diversified</a>]\n",
            "24\n",
            "[<a href=\"http://rivas.com/\">structure</a>, <a href=\"http://cox.com/\">delimits</a>, <a href=\"http://williams-parker.net/\">of</a>, <a href=\"http://williams-parker.net/\">of</a>]\n",
            "25\n",
            "[<a href=\"https://www.walsh.org/\">be</a>, <a href=\"https://www.walsh.org/\">be</a>, <a href=\"http://www.anderson.com/\">earlier</a>, <a href=\"http://fuller.com/\">case</a>]\n",
            "26\n",
            "[<a href=\"http://www.gilmore.com/\">Let\n",
            "us</a>, <a href=\"http://www.fernandez.biz/\">English\n",
            "sentences</a>, <a href=\"https://wiggins-garrett.org/\">subject</a>]\n",
            "27\n",
            "[<a href=\"http://www.sims.com/\">grammar.</a>, <a href=\"https://short.com/\">the</a>, <a href=\"https://short.com/\">the</a>, <a href=\"https://sanchez-walker.info/\">a</a>, <a href=\"https://sanchez-walker.info/\">a</a>]\n",
            "28\n",
            "[<a href=\"https://www.conway-campbell.com/\">of</a>, <a href=\"https://www.conway-campbell.com/\">of</a>, <a href=\"https://www.davies.com/\">seen</a>, <a href=\"https://ward.com/\">a\n",
            "descriptive</a>]\n",
            "29\n",
            "[<a href=\"https://www.reynolds-gonzalez.com/\">adjunctions</a>, <a href=\"https://clark.com/\">of</a>, <a href=\"https://clark.com/\">of</a>, <a href=\"https://www.ayala.com/\">domains</a>]\n",
            "30\n",
            "[<a href=\"https://www.salazar.info/\">discussion</a>, <a href=\"http://www.smith-sutton.com/\">for</a>, <a href=\"https://barnes.com/\">(97),</a>]\n",
            "31\n",
            "[<a href=\"https://lane.info/\">follows</a>, <a href=\"http://www.anthony.org/\">of\n",
            "utterance</a>, <a href=\"https://chang.org/\">about</a>]\n",
            "32\n",
            "[<a href=\"http://www.leach.com/\">is</a>, <a href=\"http://www.leach.com/\">is</a>, <a href=\"http://ramos-peters.biz/\">systematic</a>, <a href=\"https://bell-houston.com/\">of</a>, <a href=\"https://bell-houston.com/\">of</a>]\n",
            "33\n",
            "[<a href=\"https://gates.net/\">the</a>, <a href=\"https://gates.net/\">the</a>, <a href=\"http://www.pierce-wood.com/\">resumptive</a>, <a href=\"http://www.waters-martin.com/\">(98d)).</a>]\n",
            "34\n",
            "[<a href=\"https://www.snyder.net/\">outlined</a>, <a href=\"http://www.collins-hutchinson.org/\">any\n",
            "associated</a>, <a href=\"https://vasquez.org/\">proposed</a>]\n",
            "35\n",
            "[<a href=\"https://www.solis.org/\">of</a>, <a href=\"https://www.solis.org/\">of</a>, <a href=\"http://webb.com/\">delimits</a>, <a href=\"http://campbell-parsons.com/\">is</a>, <a href=\"http://campbell-parsons.com/\">is</a>]\n",
            "36\n",
            "[<a href=\"http://www.macdonald-barber.biz/\">this</a>, <a href=\"http://www.morgan.com/\">a</a>, <a href=\"http://www.morgan.com/\">a</a>, <a href=\"https://black-williams.com/\">of</a>, <a href=\"https://black-williams.com/\">of</a>]\n",
            "37\n",
            "[<a href=\"http://www.contreras.org/\">the</a>, <a href=\"http://www.contreras.org/\">the</a>, <a href=\"http://www.payne-chan.com/\">phonemic</a>, <a href=\"http://harrell.net/\">component</a>]\n",
            "38\n",
            "[<a href=\"http://www.mosley-jones.com/\">EC</a>, <a href=\"http://www.saunders.com/\">as</a>, <a href=\"http://www.saunders.com/\">as</a>, <a href=\"https://jones-jones.biz/\">in</a>, <a href=\"https://jones-jones.biz/\">in</a>]\n",
            "39\n",
            "[<a href=\"https://www.thompson-nelson.info/\">gap</a>, <a href=\"https://www.green-reynolds.com/\">not</a>, <a href=\"https://www.green-reynolds.com/\">not</a>, <a href=\"http://jenkins.info/\">error</a>]\n",
            "40\n",
            "[<a href=\"https://daniels-chang.com/\">account</a>, <a href=\"https://www.olson.com/\">be</a>, <a href=\"https://www.olson.com/\">be</a>, <a href=\"https://www.henderson.biz/\">Notice,</a>]\n",
            "41\n",
            "[<a href=\"http://cunningham.biz/\">of</a>, <a href=\"http://cunningham.biz/\">of</a>, <a href=\"https://www.harper.com/\">adequate</a>, <a href=\"https://www.lawson.com/\">far,</a>]\n",
            "42\n",
            "[<a href=\"https://conley.biz/\">levels</a>, <a href=\"http://www.spencer-wilson.info/\">semigrammaticalness</a>, <a href=\"https://www.berry.com/\">delimits</a>]\n",
            "43\n",
            "[<a href=\"http://roberson.info/\">is</a>, <a href=\"http://roberson.info/\">is</a>, <a href=\"http://powell.net/\">the</a>, <a href=\"http://powell.net/\">the</a>, <a href=\"https://ramsey.net/\">(e.g.</a>, <a href=\"https://ramsey.net/\">(e.g.</a>]\n",
            "44\n",
            "[<a href=\"https://mora.com/\">that</a>, <a href=\"https://mora.com/\">that</a>, <a href=\"http://www.robbins.com/\">of</a>, <a href=\"http://www.robbins.com/\">of</a>, <a href=\"http://stevens.org/\">in</a>, <a href=\"http://stevens.org/\">in</a>]\n",
            "45\n",
            "[<a href=\"http://christian-rosales.com/\">sentences</a>, <a href=\"http://www.campbell.com/\">is</a>, <a href=\"http://www.campbell.com/\">is</a>, <a href=\"https://trevino.org/\">determines</a>]\n",
            "46\n",
            "[<a href=\"http://www.page-cook.net/\">descriptively</a>, <a href=\"https://mendoza.com/\">sort</a>, <a href=\"https://www.ryan.com/\">have</a>]\n",
            "47\n",
            "[<a href=\"https://lam.com/\">for</a>, <a href=\"https://lam.com/\">for</a>, <a href=\"http://castillo-davidson.com/\">this</a>, <a href=\"https://peterson.com/\">eliminate</a>]\n",
            "48\n",
            "[<a href=\"https://www.myers-smith.net/\">delimits</a>, <a href=\"https://mccoy.com/\">account</a>, <a href=\"http://mcdonald-ford.net/\">the</a>, <a href=\"http://mcdonald-ford.net/\">the</a>]\n",
            "49\n",
            "[<a href=\"https://moore.com/\">in</a>, <a href=\"https://moore.com/\">in</a>, <a href=\"http://www.young-salazar.com/\">these\n",
            "various</a>, <a href=\"http://gibson-faulkner.com/\">remedy</a>]\n",
            "50\n",
            "[<a href=\"http://www.mcclure.com/\">considered</a>, <a href=\"http://www.roberts.com/\">suffices</a>, <a href=\"http://www.medina.com/\">descriptive</a>]\n",
            "51\n",
            "[<a href=\"http://skinner.com/\">strong</a>, <a href=\"https://carpenter.com/\">distinctive</a>, <a href=\"http://miller-ferguson.com/\">of</a>, <a href=\"http://miller-ferguson.com/\">of</a>]\n",
            "52\n",
            "[<a href=\"http://nelson.com/\"><p>Nevertheless,</p></a>, <a href=\"http://www.arias.com/\">that</a>, <a href=\"https://www.patel.biz/\">is</a>, <a href=\"https://www.patel.biz/\">is</a>]\n",
            "53\n",
            "[<a href=\"http://www.sullivan-delacruz.com/\">the</a>, <a href=\"http://www.sullivan-delacruz.com/\">the</a>, <a href=\"https://www.owen.com/\">the</a>, <a href=\"https://www.owen.com/\">the</a>, <a href=\"https://www.parker-murray.com/\">regarded\n",
            "as</a>]\n",
            "54\n",
            "[<a href=\"http://coleman.com/\">important</a>, <a href=\"https://www.rodriguez.com/\">system</a>, <a href=\"http://www.porter.org/\">linguistic</a>]\n",
            "55\n",
            "[<a href=\"http://hernandez.com/\">an\n",
            "important</a>, <a href=\"https://www.page.net/\">in</a>, <a href=\"https://www.page.net/\">in</a>, <a href=\"http://hobbs-young.com/\">respect\n",
            "to</a>]\n",
            "56\n",
            "[<a href=\"https://sheppard.info/\">impose</a>, <a href=\"https://www.smith.com/\">the</a>, <a href=\"https://www.smith.com/\">the</a>, <a href=\"http://www.griffith-williams.net/\">defined</a>]\n",
            "57\n",
            "[<a href=\"https://www.carpenter.org/\">feature</a>, <a href=\"https://www.stewart-levy.com/\">paired</a>, <a href=\"http://www.wallace.net/\">proposed</a>]\n",
            "58\n",
            "[<a href=\"https://www.archer.com/\">of</a>, <a href=\"https://www.archer.com/\">of</a>, <a href=\"http://www.brown.net/\">to</a>, <a href=\"http://www.brown.net/\">to</a>, <a href=\"http://bryan-evans.biz/\">underlying</a>]\n",
            "59\n",
            "[<a href=\"https://www.hamilton.com/\">the</a>, <a href=\"https://www.hamilton.com/\">the</a>, <a href=\"http://vasquez.com/\">is</a>, <a href=\"http://vasquez.com/\">is</a>, <a href=\"https://ortiz-johnson.com/\">On</a>, <a href=\"https://ortiz-johnson.com/\">On</a>]\n",
            "60\n",
            "[<a href=\"http://singleton-garcia.com/\">will</a>, <a href=\"http://www.yoder-ruiz.biz/\">this</a>, <a href=\"http://green.biz/\">underlying</a>]\n",
            "61\n",
            "[<a href=\"http://www.mccarty-norris.org/\">that</a>, <a href=\"https://www.moore.com/\">results</a>, <a href=\"http://lopez.com/\">language</a>]\n",
            "62\n",
            "[<a href=\"https://davis-jones.net/\">suffices</a>, <a href=\"https://www.davis.com/\">capacity</a>, <a href=\"http://www.fernandez.com/\">of</a>, <a href=\"http://www.fernandez.com/\">of</a>]\n",
            "63\n",
            "[<a href=\"http://mcmillan-martinez.com/\">results</a>, <a href=\"http://miller.com/\">the</a>, <a href=\"http://miller.com/\">the</a>, <a href=\"https://www.williams-davis.com/\">a</a>, <a href=\"https://www.williams-davis.com/\">a</a>]\n",
            "64\n",
            "[<a href=\"https://moore-haas.org/\">be</a>, <a href=\"https://www.hanson.com/\">provide</a>, <a href=\"https://byrd.com/\">the</a>, <a href=\"https://byrd.com/\">the</a>]\n",
            "65\n",
            "[<a href=\"http://walker.org/\">seen</a>, <a href=\"http://allison-clark.com/\">a</a>, <a href=\"http://allison-clark.com/\">a</a>, <a href=\"https://www.sims.info/\">parasitic</a>]\n",
            "66\n",
            "[<a href=\"https://smith-chase.net/\">not</a>, <a href=\"https://singleton.com/\">power</a>, <a href=\"http://www.williams.com/\">theory.</a>]\n",
            "67\n",
            "[<a href=\"http://www.lawrence-payne.net/\">connection</a>, <a href=\"http://saunders.com/\">gaps</a>, <a href=\"https://graves.com/\">closely</a>]\n",
            "68\n",
            "[<a href=\"https://mcguire.biz/\">the</a>, <a href=\"https://mcguire.biz/\">the</a>, <a href=\"http://www.olson.com/\">an</a>, <a href=\"http://www.olson.com/\">an</a>, <a href=\"http://www.calderon.com/\">subset</a>]\n",
            "69\n",
            "[<a href=\"https://www.adams.biz/\">is</a>, <a href=\"https://www.adams.biz/\">is</a>, <a href=\"https://www.mason.net/\">the</a>, <a href=\"https://www.mason.net/\">the</a>, <a href=\"http://www.kemp.info/\">in</a>, <a href=\"http://www.kemp.info/\">in</a>]\n",
            "70\n",
            "[<a href=\"https://www.vaughn.com/\">distinctive</a>, <a href=\"http://www.smith.org/\">an</a>, <a href=\"http://www.smith.org/\">an</a>, <a href=\"http://nash-harris.com/\">discussed</a>]\n",
            "71\n",
            "[<a href=\"http://hughes.com/\">of</a>, <a href=\"http://hughes.com/\">of</a>, <a href=\"http://marquez.com/\">different</a>, <a href=\"http://day.info/\">apparently,\n",
            "determined</a>]\n",
            "72\n",
            "[<a href=\"http://www.french.com/\">with</a>, <a href=\"http://www.french.com/\">with</a>, <a href=\"http://green.org/\">I</a>, <a href=\"https://www.johnson.com/\">not</a>, <a href=\"https://www.johnson.com/\">not</a>]\n",
            "73\n",
            "[<a href=\"http://www.barker.com/\">We</a>, <a href=\"https://www.freeman-martin.com/\">may\n",
            "remedy</a>, <a href=\"http://gates.net/\">linguistics</a>]\n",
            "74\n",
            "[<a href=\"https://www.clark.com/\">to</a>, <a href=\"https://www.clark.com/\">to</a>, <a href=\"http://www.delacruz-robinson.info/\">we</a>, <a href=\"https://harris.org/\">a</a>, <a href=\"https://harris.org/\">a</a>]\n",
            "75\n",
            "[<a href=\"http://davis.com/\">levels</a>, <a href=\"https://joseph-poole.com/\">the</a>, <a href=\"https://joseph-poole.com/\">the</a>, <a href=\"http://www.freeman.com/\">Of</a>]\n",
            "76\n",
            "[<a href=\"http://hammond.com/\">does</a>, <a href=\"https://gardner-martinez.net/\">selectionally</a>, <a href=\"https://www.snow.com/\"><p>Summarizing,</p></a>]\n",
            "77\n",
            "[<a href=\"https://cook.com/\">the</a>, <a href=\"https://cook.com/\">the</a>, <a href=\"http://cook.org/\">that</a>, <a href=\"http://cook.org/\">that</a>, <a href=\"http://www.baker-howell.biz/\">functional</a>]\n",
            "78\n",
            "[<a href=\"http://www.hutchinson.net/\">constructions</a>, <a href=\"https://proctor.org/\">the</a>, <a href=\"https://proctor.org/\">the</a>, <a href=\"http://www.maddox.com/\">descriptively</a>]\n",
            "79\n",
            "[<a href=\"http://www.chung.com/\">T(Z,K),</a>, <a href=\"https://www.singh.info/\">contexts</a>, <a href=\"http://www.hodges.com/\">modern</a>]\n",
            "80\n",
            "[<a href=\"https://www.green.net/\">gibberish</a>, <a href=\"https://www.wright.biz/\">at\n",
            "the</a>, <a href=\"https://potter.com/\">same</a>]\n",
            "81\n",
            "[<a href=\"https://lowery.com/\">distinctive</a>, <a href=\"https://sellers.biz/\">way</a>, <a href=\"https://lee-gray.info/\">appearance\n",
            "of</a>]\n",
            "82\n",
            "[<a href=\"https://www.boyer-jones.com/\">an</a>, <a href=\"https://www.boyer-jones.com/\">an</a>, <a href=\"https://www.hayes.biz/\">instance,</a>, <a href=\"http://holder.info/\">functional</a>]\n",
            "83\n",
            "[<a href=\"https://www.jones.com/\">distinction</a>, <a href=\"https://macdonald.com/\">developed</a>, <a href=\"http://www.bailey.org/\">correlate</a>]\n",
            "84\n",
            "[<a href=\"http://wu.com/\">constructions</a>, <a href=\"https://moody.com/\">to</a>, <a href=\"https://moody.com/\">to</a>, <a href=\"http://johnson.net/\">grounds</a>]\n",
            "85\n",
            "[<a href=\"https://www.palmer-turner.com/\">these</a>, <a href=\"https://www.smith.com/\">dominance</a>, <a href=\"http://www.aguilar.org/\">not</a>, <a href=\"http://www.aguilar.org/\">not</a>]\n",
            "86\n",
            "[<a href=\"http://gonzalez.info/\">grammar.</a>, <a href=\"http://jones-brown.info/\">this</a>, <a href=\"http://gordon-hall.biz/\">standard</a>]\n",
            "87\n",
            "[<a href=\"https://www.beck-hall.com/\">certain</a>, <a href=\"https://campbell.info/\">of</a>, <a href=\"https://campbell.info/\">of</a>, <a href=\"https://howell.biz/\">any</a>]\n",
            "88\n",
            "[<a href=\"https://www.pope.com/\">to</a>, <a href=\"https://www.pope.com/\">to</a>, <a href=\"http://www.munoz.com/\">various</a>, <a href=\"https://www.hamilton.com/\">the\n",
            "theory.</a>]\n",
            "89\n",
            "[<a href=\"http://oconnor.com/\">in</a>, <a href=\"http://oconnor.com/\">in</a>, <a href=\"http://www.fritz-franklin.net/\">that</a>, <a href=\"http://www.fritz-franklin.net/\">that</a>, <a href=\"https://www.jones-jones.net/\">nondistinctness</a>]\n",
            "90\n",
            "[<a href=\"https://www.lopez.com/\">in</a>, <a href=\"https://www.lopez.com/\">in</a>, <a href=\"https://hernandez.com/\">speaker-hearer's</a>, <a href=\"https://campbell.com/\">is</a>, <a href=\"https://campbell.com/\">is</a>]\n",
            "91\n",
            "[<a href=\"http://nguyen.com/\">test.</a>, <a href=\"http://jenkins.info/\">sets</a>, <a href=\"http://torres.com/\">underlying</a>]\n",
            "92\n",
            "[<a href=\"https://tate.com/\">(96)\n",
            "and</a>, <a href=\"https://www.leach.net/\">It</a>, <a href=\"http://baker.net/\">certain</a>]\n",
            "93\n",
            "[<a href=\"https://chavez.com/\">in</a>, <a href=\"https://chavez.com/\">in</a>, <a href=\"https://www.velazquez.com/\">interpretation</a>, <a href=\"https://www.andrews.com/\">a</a>, <a href=\"https://www.andrews.com/\">a</a>]\n",
            "94\n",
            "[<a href=\"http://castro.com/\">(e.g.</a>, <a href=\"http://castro.com/\">(e.g.</a>, <a href=\"https://shaw.info/\">selectional</a>, <a href=\"https://www.carter.com/\">for</a>, <a href=\"https://www.carter.com/\">for</a>]\n",
            "95\n",
            "[<a href=\"http://garrett.com/\">in</a>, <a href=\"http://garrett.com/\">in</a>, <a href=\"https://cox.com/\">appears</a>, <a href=\"https://cox.com/\">appears</a>, <a href=\"https://brady-palmer.com/\">discussion</a>]\n",
            "96\n",
            "[<a href=\"https://www.montgomery.com/\">equivalent</a>, <a href=\"https://edwards-key.com/\">morphological</a>, <a href=\"http://garcia-terry.com/\">most</a>]\n",
            "97\n",
            "[<a href=\"https://www.martinez.com/\">information</a>, <a href=\"http://anderson.org/\">of</a>, <a href=\"http://anderson.org/\">of</a>, <a href=\"http://www.pearson.info/\">one</a>, <a href=\"http://www.pearson.info/\">one</a>]\n",
            "98\n",
            "[<a href=\"http://scott-smith.net/\">be</a>, <a href=\"http://scott-smith.net/\">be</a>, <a href=\"http://www.lambert.net/\">(98d)).</a>, <a href=\"http://hamilton-russell.com/\">that</a>, <a href=\"http://hamilton-russell.com/\">that</a>]\n",
            "99\n",
            "[<a href=\"https://www.davis.com/\">system</a>, <a href=\"http://www.davis.com/\">the</a>, <a href=\"http://www.davis.com/\">the</a>, <a href=\"http://martinez-reeves.com/\">the</a>, <a href=\"http://martinez-reeves.com/\">the</a>]\n",
            "100\n",
            "[<a href=\"https://morgan.org/\">rules.</a>, <a href=\"http://reed-mcbride.com/\">notion</a>, <a href=\"https://yang-johnson.net/\">a</a>, <a href=\"https://yang-johnson.net/\">a</a>]\n",
            "101\n",
            "[<a href=\"https://wilson.com/\">an\n",
            "interpretation</a>, <a href=\"https://duran-monroe.com/\">different</a>, <a href=\"http://www.hall.com/\">(99a))</a>]\n",
            "102\n",
            "[<a href=\"http://www.trevino.com/\">sort</a>, <a href=\"http://higgins.net/\">the</a>, <a href=\"http://higgins.net/\">the</a>, <a href=\"http://morales-cardenas.info/\">the\n",
            "constructions</a>]\n",
            "103\n",
            "[<a href=\"http://herrera.org/\">fundamental\n",
            "error</a>, <a href=\"http://scott-andersen.com/\">distinctive\n",
            "feature</a>, <a href=\"https://www.obrien.com/\">has</a>]\n",
            "104\n",
            "[<a href=\"https://stewart.com/\">delimits</a>, <a href=\"https://www.dodson-brown.org/\">feature\n",
            "theory.</a>, <a href=\"http://barnes.com/\">resumptive</a>]\n",
            "105\n",
            "[<a href=\"https://kelley.net/\">to</a>, <a href=\"https://kelley.net/\">to</a>, <a href=\"https://www.bass.com/\">grammarians.</a>, <a href=\"https://www.johnson.net/\">the</a>, <a href=\"https://www.johnson.net/\">the</a>]\n",
            "106\n",
            "[<a href=\"https://morris-smith.com/\">general</a>, <a href=\"http://prince.org/\">Thus</a>, <a href=\"https://le-underwood.com/\">in</a>, <a href=\"https://le-underwood.com/\">in</a>]\n",
            "107\n",
            "[<a href=\"http://salazar.com/\">various</a>, <a href=\"http://kerr-contreras.com/\">(96)</a>, <a href=\"http://www.ellis.info/\">By</a>]\n",
            "108\n",
            "[<a href=\"https://martinez.com/\">into</a>, <a href=\"https://www.hill.com/\">rather</a>, <a href=\"http://www.salazar-brown.com/\">theory.</a>]\n",
            "109\n",
            "[<a href=\"http://www.nash.com/\">the\n",
            "forms</a>, <a href=\"https://www.estrada-sanchez.info/\">domains</a>, <a href=\"http://smith.info/\">use.</a>]\n",
            "110\n",
            "[<a href=\"http://smith.com/\">stipulation</a>, <a href=\"https://phillips-rivera.org/\">just</a>, <a href=\"http://www.smith.com/\">which</a>, <a href=\"http://www.smith.com/\">which</a>]\n",
            "111\n",
            "[<a href=\"http://williams-taylor.com/\">general</a>, <a href=\"http://williams-taylor.com/\">general</a>, <a href=\"https://holden.com/\">since</a>, <a href=\"http://www.short.com/\">respect</a>]\n",
            "112\n",
            "[<a href=\"http://manning.net/\">English</a>, <a href=\"https://www.sims-lee.org/\">seen</a>, <a href=\"https://www.jones.com/\">theory.</a>]\n",
            "113\n",
            "[<a href=\"http://riley-armstrong.biz/\">that</a>, <a href=\"http://riley-armstrong.biz/\">that</a>, <a href=\"https://weaver.com/\">the</a>, <a href=\"https://weaver.com/\">the</a>, <a href=\"http://www.sullivan.com/\">high</a>]\n",
            "114\n",
            "[<a href=\"https://alvarez.com/\">of</a>, <a href=\"https://alvarez.com/\">of</a>, <a href=\"https://www.ward.net/\">branching</a>, <a href=\"https://www.robinson-green.com/\">of\n",
            "parasitic</a>]\n",
            "115\n",
            "[<a href=\"https://hernandez.com/\">It</a>, <a href=\"https://hernandez.com/\">It</a>, <a href=\"https://rich.biz/\">corpus</a>, <a href=\"http://www.lewis.org/\">earlier</a>]\n",
            "116\n",
            "[<a href=\"http://www.avila.com/\">as</a>, <a href=\"http://www.avila.com/\">as</a>, <a href=\"http://carpenter-carter.biz/\">stipulation</a>, <a href=\"http://www.smith-walker.com/\">underlying\n",
            "order.</a>]\n",
            "117\n",
            "[<a href=\"http://dillon.com/\">to</a>, <a href=\"http://dillon.com/\">to</a>, <a href=\"http://walker.com/\">apparently,</a>, <a href=\"http://www.steele.com/\">an</a>, <a href=\"http://www.steele.com/\">an</a>]\n",
            "118\n",
            "[<a href=\"https://www.terry.com/\">an</a>, <a href=\"https://www.terry.com/\">an</a>, <a href=\"https://www.parker-ruiz.com/\">intuition</a>, <a href=\"https://www.wong.com/\">language</a>]\n",
            "119\n",
            "[<a href=\"http://www.barrera.com/\">application</a>, <a href=\"https://stout-mclaughlin.com/\">an\n",
            "interpretation</a>, <a href=\"http://www.scott.com/\">the</a>, <a href=\"http://www.scott.com/\">the</a>]\n",
            "120\n",
            "[<a href=\"https://fletcher.info/\">of</a>, <a href=\"https://fletcher.info/\">of</a>, <a href=\"http://houston.com/\">the</a>, <a href=\"http://houston.com/\">the</a>, <a href=\"http://davis.biz/\">unspecified</a>]\n",
            "121\n",
            "[<a href=\"https://www.palmer.com/\"><p>A</p></a>, <a href=\"https://ruiz.org/\">Nevertheless,\n",
            "this</a>, <a href=\"http://fowler.com/\">gibberish</a>]\n",
            "122\n",
            "[<a href=\"https://www.nixon.org/\">delimits</a>, <a href=\"https://vazquez-weaver.com/\">construction.</a>, <a href=\"https://brown.com/\">On</a>]\n",
            "123\n",
            "[<a href=\"https://www.ingram-underwood.net/\">supporting\n",
            "element</a>, <a href=\"http://www.richard-jackson.com/\">is</a>, <a href=\"http://www.richard-jackson.com/\">is</a>, <a href=\"https://perez.com/\">developed</a>]\n",
            "124\n",
            "[<a href=\"https://www.brown.com/\">introduced</a>, <a href=\"http://davis.org/\">feature</a>, <a href=\"https://www.schaefer.com/\">determines</a>]\n",
            "125\n",
            "[<a href=\"http://glover-joseph.info/\">deformations,</a>, <a href=\"http://lyons.net/\">regarded</a>, <a href=\"https://www.cummings-hodges.com/\">in</a>, <a href=\"https://www.cummings-hodges.com/\">in</a>]\n"
          ],
          "name": "stdout"
        }
      ]
    },
    {
      "cell_type": "markdown",
      "metadata": {
        "id": "zrd_ALXdq4e6"
      },
      "source": [
        "#**Question 2**"
      ]
    },
    {
      "cell_type": "code",
      "metadata": {
        "id": "dvpjf1GMpX37"
      },
      "source": [
        ""
      ],
      "execution_count": null,
      "outputs": []
    },
    {
      "cell_type": "markdown",
      "metadata": {
        "id": "hoGhghG6k79e"
      },
      "source": [
        "# Nouvelle section"
      ]
    }
  ]
}