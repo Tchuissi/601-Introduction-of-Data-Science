{
 "cells": [
  {
   "cell_type": "markdown",
   "metadata": {},
   "source": [
    "# Week 1: Programming decomposition of course grade"
   ]
  },
  {
   "cell_type": "markdown",
   "metadata": {},
   "source": [
    "Suppose the course grade is based on 30 assignments (each scored 0 to 100), three projects (each scored 0 to 100), and attendance in 15 classes (each scored as present or absent). The assignments account for 30% of the course grade, the projects are 20% each (60% total), and attendance is 10% of the course grade. Suppose 10 of the 30 assignments are included in the final course score. The 10 are randomly selected.\n",
    "Write a program in Python 3 that calculates the final numeric course score on a 0 to 100 scale for a student."
   ]
  },
  {
   "cell_type": "markdown",
   "metadata": {},
   "source": [
    "Cited code:\n",
    "\n",
    "1.Adapted code from https://www.geeksforgeeks.org/python-get-a-list-as-input-from-user/ for:\n",
    "\"for x in range(0, 30): \n",
    "    num = int(input(\"Enter assignment grade:\")) \n",
    "    list1.append(num)\"\n",
    "while looking up how to create an user inputed list    \n",
    "\n",
    "2.Adapted code from https://www.geeksforgeeks.org/python-random-sample-function/ for:\n",
    "\"from random import sample    \n",
    "print(list1)\n",
    "list2=(sample(list1,10))\"\n",
    "while lookingup how take sample from list"
   ]
  },
  {
   "cell_type": "code",
   "execution_count": 1,
   "metadata": {},
   "outputs": [
    {
     "name": "stdout",
     "output_type": "stream",
     "text": [
      "Enter assignment grade:90\n",
      "Enter assignment grade:100\n",
      "Enter assignment grade:90\n",
      "Enter assignment grade:100\n",
      "Enter assignment grade:90\n",
      "Enter assignment grade:100\n",
      "Enter assignment grade:90\n",
      "Enter assignment grade:100\n",
      "Enter assignment grade:90\n",
      "Enter assignment grade:100\n",
      "Enter assignment grade:90\n",
      "Enter assignment grade:100\n",
      "Enter assignment grade:90\n",
      "Enter assignment grade:100\n",
      "Enter assignment grade:90\n",
      "Enter assignment grade:100\n",
      "Enter assignment grade:90\n",
      "Enter assignment grade:100\n",
      "Enter assignment grade:90\n",
      "Enter assignment grade:100\n",
      "Enter assignment grade:90\n",
      "Enter assignment grade:100\n",
      "Enter assignment grade:90\n",
      "Enter assignment grade:100\n",
      "Enter assignment grade:90\n",
      "Enter assignment grade:100\n",
      "Enter assignment grade:90\n",
      "Enter assignment grade:100\n",
      "Enter assignment grade:90\n",
      "Enter assignment grade:100\n",
      "[90, 100, 90, 100, 90, 100, 90, 100, 90, 100, 90, 100, 90, 100, 90, 100, 90, 100, 90, 100, 90, 100, 90, 100, 90, 100, 90, 100, 90, 100]\n",
      "[100, 100, 90, 100, 90, 100, 100, 90, 100, 90]\n",
      "28.799999999999997\n"
     ]
    }
   ],
   "source": [
    "#30 assignment grades- 30%\n",
    "\n",
    "#create list\n",
    "list1=[]\n",
    "#user input 30 grades while adding them each to the list1\n",
    "#1.see citation for following code\n",
    "for x in range(0, 30): \n",
    "    num = int(input(\"Enter assignment grade:\")) \n",
    "    list1.append(num)\n",
    "#2.see citation for following code\n",
    "from random import sample    \n",
    "print(list1)\n",
    "#take a random sample of 10 from list1 to create list2\n",
    "list2=(sample(list1,10))\n",
    "print(list2)\n",
    "#sum up list2\n",
    "sum=sum(list2)\n",
    "#find the average of list2 and multiply it by .3 to get the weighted points\n",
    "assignmentpoints=(sum/10)*.3\n",
    "print(assignmentpoints)"
   ]
  },
  {
   "cell_type": "code",
   "execution_count": 2,
   "metadata": {},
   "outputs": [
    {
     "name": "stdout",
     "output_type": "stream",
     "text": [
      "Enter 1 if present and 0 if absent:0\n",
      "Enter 1 if present and 0 if absent:1\n",
      "Enter 1 if present and 0 if absent:1\n",
      "Enter 1 if present and 0 if absent:1\n",
      "Enter 1 if present and 0 if absent:1\n",
      "Enter 1 if present and 0 if absent:1\n",
      "Enter 1 if present and 0 if absent:1\n",
      "Enter 1 if present and 0 if absent:1\n",
      "Enter 1 if present and 0 if absent:1\n",
      "Enter 1 if present and 0 if absent:1\n",
      "Enter 1 if present and 0 if absent:1\n",
      "Enter 1 if present and 0 if absent:1\n",
      "Enter 1 if present and 0 if absent:1\n",
      "Enter 1 if present and 0 if absent:1\n",
      "Enter 1 if present and 0 if absent:1\n",
      "14\n",
      "9.333333333333332\n"
     ]
    }
   ],
   "source": [
    "# attendance-10%\n",
    "#enter 15 present/absent in numerical from and add them up\n",
    "attendance=0\n",
    "for x in range(0,15):\n",
    "    attend=int(input(\"Enter 1 if present and 0 if absent:\"))\n",
    "    attendance=attendance+attend\n",
    "print(attendance) \n",
    "#find average and divide by .1 to get weighted points\n",
    "attendancepoints=(attendance/15)/.10\n",
    "print(attendancepoints)"
   ]
  },
  {
   "cell_type": "code",
   "execution_count": 3,
   "metadata": {},
   "outputs": [
    {
     "name": "stdout",
     "output_type": "stream",
     "text": [
      "Enter project 1 grade:80\n",
      "Enter project 2 grade:90\n",
      "Enter final grade:80\n",
      "49.99999999999999\n"
     ]
    }
   ],
   "source": [
    "# 2 projects and final - 60%\n",
    "#enter project1\n",
    "project1=int(input(\"Enter project 1 grade:\"))\n",
    "#enter project2 \n",
    "project2=int(input(\"Enter project 2 grade:\"))\n",
    "#enter final\n",
    "final=int(input(\"Enter final grade:\"))\n",
    "#find average of all projects since they are worth the same percentage and multply by .6 to get weighted points\n",
    "overallprojectgrade=((project1+project2+final)/3)*.6\n",
    "print(overallprojectgrade)"
   ]
  },
  {
   "cell_type": "code",
   "execution_count": 4,
   "metadata": {},
   "outputs": [
    {
     "name": "stdout",
     "output_type": "stream",
     "text": [
      "88.13333333333333\n"
     ]
    }
   ],
   "source": [
    "#overall final grade\n",
    "#add up all the weighted points from each section to get overall grade\n",
    "overallfinalgrade=(overallprojectgrade+attendancepoints+assignmentpoints)\n",
    "print(overallfinalgrade)"
   ]
  },
  {
   "cell_type": "code",
   "execution_count": null,
   "metadata": {},
   "outputs": [],
   "source": []
  }
 ],
 "metadata": {
  "kernelspec": {
   "display_name": "Python 3",
   "language": "python",
   "name": "python3"
  },
  "language_info": {
   "codemirror_mode": {
    "name": "ipython",
    "version": 3
   },
   "file_extension": ".py",
   "mimetype": "text/x-python",
   "name": "python",
   "nbconvert_exporter": "python",
   "pygments_lexer": "ipython3",
   "version": "3.6.6"
  }
 },
 "nbformat": 4,
 "nbformat_minor": 2
}
