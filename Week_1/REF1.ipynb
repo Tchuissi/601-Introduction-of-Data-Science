{
 "cells": [
  {
   "cell_type": "code",
   "execution_count": 1,
   "metadata": {},
   "outputs": [],
   "source": [
    "#import libraries:\n",
    "import pandas as pd\n",
    "import numpy as np\n",
    "import matplotlib.pyplot as plt\n",
    "import os\n",
    "import seaborn as sns"
   ]
  },
  {
   "cell_type": "code",
   "execution_count": 2,
   "metadata": {},
   "outputs": [],
   "source": [
    "#Suppose the course grade is based on 30 assignments (each scored 0 to 100), three projects (each scored 0 to 100),\n",
    "#and attendance in 15 classes (each scored as present or absent). The assignments account for 30% of the course grade,\n",
    "#the projects are 20% each (60% total), and attendance is 10% of the course grade. Suppose 10 of the 30 assignments \n",
    "#are included in the final course score. The 10 are randomly selected.\n",
    "#Write a program in Python 3 that calculates the final numeric course score on a 0 to 100 scale for a student"
   ]
  },
  {
   "cell_type": "code",
   "execution_count": 4,
   "metadata": {},
   "outputs": [
    {
     "name": "stdin",
     "output_type": "stream",
     "text": [
      "Please enter the student's grade on assignment:  90\n",
      "Please enter the student's grade on assignment:  70\n",
      "Please enter the student's grade on assignment:  70\n",
      "Please enter the student's grade on assignment:  70\n",
      "Please enter the student's grade on assignment:  78\n",
      "Please enter the student's grade on assignment:  86\n",
      "Please enter the student's grade on assignment:  89\n",
      "Please enter the student's grade on assignment:  75\n",
      "Please enter the student's grade on assignment:  77\n",
      "Please enter the student's grade on assignment:  77\n"
     ]
    },
    {
     "name": "stdout",
     "output_type": "stream",
     "text": [
      "[90, 70, 70, 70, 78, 86, 89, 75, 77, 77]\n",
      "The student's assignment grade is 78.2\n",
      "\n"
     ]
    },
    {
     "name": "stdin",
     "output_type": "stream",
     "text": [
      "Please enter the students grade on project:  76\n",
      "Please enter the students grade on project:  75\n",
      "Please enter the students grade on project:  80\n"
     ]
    },
    {
     "name": "stdout",
     "output_type": "stream",
     "text": [
      "[76, 75, 80]\n",
      "The student's project grade is 77.0\n",
      "\n",
      "To calculate the student's attendance grade, if the student attended class for that date, enter '100', if they didn't attend class for that date, enter '0'\n"
     ]
    },
    {
     "name": "stdin",
     "output_type": "stream",
     "text": [
      "Please enter the students attendance for class:  100\n",
      "Please enter the students attendance for class:  0\n",
      "Please enter the students attendance for class:  0\n",
      "Please enter the students attendance for class:  0\n",
      "Please enter the students attendance for class:  0\n",
      "Please enter the students attendance for class:  0\n",
      "Please enter the students attendance for class:  0\n",
      "Please enter the students attendance for class:  100\n",
      "Please enter the students attendance for class:  100\n",
      "Please enter the students attendance for class:  0\n",
      "Please enter the students attendance for class:  100\n",
      "Please enter the students attendance for class:  100\n",
      "Please enter the students attendance for class:  100\n",
      "Please enter the students attendance for class:  100\n",
      "Please enter the students attendance for class:  100\n"
     ]
    },
    {
     "name": "stdout",
     "output_type": "stream",
     "text": [
      "[100, 0, 0, 0, 0, 0, 0, 100, 100, 0, 100, 100, 100, 100, 100]\n",
      "The student's attendance grade is 53.33\n",
      "\n",
      "The student's final grade is 74.99 the student will recieve a C\n"
     ]
    }
   ],
   "source": [
    "# NOTE: I used the same general code to calculate the student's assignment grade, project grade, and attendance grade.\n",
    "#I used a while loop to repeatedly ask the user to input the student's score for each assignment/project/attendance.\n",
    "#Each time the variable assigned to the user's input will update till the user has entered the max number of answers.\n",
    "#the user's input will be added to list, which will convert the inputs to integers so I can calculate calculate the \n",
    "#average grade by summing each integer in the list and dividing by total possible score, then mulitplying to 100 \n",
    "#to get the percentage, and using the round function to make it look cleaner. \n",
    "\n",
    "\n",
    "\n",
    "#first calucate the student's assignment grade based off only 10 assignments. Limit is set to 10\n",
    "assignments_list=[]\n",
    "assignments=10                        #http://introtopython.org/while_input.html (I followed the similiar pattern for\n",
    "                                      # my code below)\n",
    "while assignments > 0 :\n",
    "    assignment_value=input(\"Please enter the student's grade on assignment: \")\n",
    "    assignment_value=int(assignment_value)\n",
    "    assignments_list.append(assignment_value)\n",
    "    assignments = assignments - 1\n",
    "print(assignments_list)  \n",
    "assignment_grade= round(((sum(assignments_list))/1000) * 100,2)\n",
    "print(\"The student's assignment grade is\", assignment_grade)\n",
    "\n",
    "print()                              #https://stackoverflow.com/questions/12450704/how-to-print-spaces-in-python\n",
    "                                     # I couldn't remember how to print a new line so I used this. \n",
    "\n",
    "#second, calculate the student's project grade\n",
    "projects_list=[]\n",
    "projects=3\n",
    "while projects > 0:\n",
    "    project_value= int(input(\"Please enter the students grade on project: \"))\n",
    "    projects_list.append(project_value)\n",
    "    projects = projects - 1\n",
    "print(projects_list)\n",
    "projects_grade = round(((sum(projects_list)/300))* 100,2)\n",
    "print(\"The student's project grade is\", projects_grade)\n",
    "\n",
    "print()\n",
    "\n",
    "\n",
    "#third, calculate the students attendance grade by scoring them either with a 100 if they attended class for that \n",
    "#date, or with a 0 if they didn't attend class for that date. The max points they can get for attendance grade is \n",
    "#1500. \n",
    "attendance_list=[]\n",
    "attendance=15\n",
    "print(\"To calculate the student's attendance grade, if the student attended class for that date, enter '100', if they didn't attend class for that date, enter '0'\")\n",
    "while attendance > 0:\n",
    "    attendance_value= int(input(\"Please enter the students attendance for class: \"))\n",
    "    attendance_list.append(attendance_value)\n",
    "    attendance = attendance - 1\n",
    "print(attendance_list)\n",
    "attendance_grade = round(((sum(attendance_list)/1500)*100),2)\n",
    "print(\"The student's attendance grade is\", attendance_grade)\n",
    "\n",
    "print()\n",
    "\n",
    "\n",
    "#fourth, calculate the students final grade. \n",
    "\n",
    "def grade(x):                               #used this website to use a function to print the students grade:\n",
    "                                            #https://stackoverflow.com/questions/40513514/python-program-that-prints-grade-using-nested-if-else-statements\n",
    "        \n",
    "    if x>=90:\n",
    "        return \"the student will recieve a A\"\n",
    "    elif x>=80:\n",
    "        return \"the student will recieve a B\"\n",
    "    elif x>=70:\n",
    "        return \"the student will recieve a C\"\n",
    "    elif x>=60:\n",
    "        return \"the student will recieve a D\"\n",
    "    else:\n",
    "        return \"the student will recieve a F\"\n",
    "    \n",
    "    \n",
    "final_assignment_grade = round((.30*assignment_grade),2)\n",
    "final_project_grade = round((.60*projects_grade),2)\n",
    "final_attendance_grade = round((.10*attendance_grade),2)\n",
    "\n",
    "students_final_grade = final_assignment_grade + final_project_grade + final_attendance_grade\n",
    "\n",
    "\n",
    "\n",
    "\n",
    "print(\"The student's final grade is\",students_final_grade, grade(students_final_grade))\n",
    "   \n"
   ]
  },
  {
   "cell_type": "code",
   "execution_count": null,
   "metadata": {},
   "outputs": [],
   "source": []
  }
 ],
 "metadata": {
  "kernelspec": {
   "display_name": "Python 3",
   "language": "python",
   "name": "python3"
  },
  "language_info": {
   "codemirror_mode": {
    "name": "ipython",
    "version": 3
   },
   "file_extension": ".py",
   "mimetype": "text/x-python",
   "name": "python",
   "nbconvert_exporter": "python",
   "pygments_lexer": "ipython3",
   "version": "3.6.6"
  }
 },
 "nbformat": 4,
 "nbformat_minor": 2
}
