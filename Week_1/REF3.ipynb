{
 "cells": [
  {
   "cell_type": "markdown",
   "metadata": {},
   "source": [
    "Description: Suppose the course grade is based on 30 assignments (each scored 0 to 100), three projects (each scored 0 to 100), and attendance in 15 classes (each scored as present or absent). The assignments account for 30% of the course grade, the projects are 20% each (60% total), and attendance is 10% of the course grade.  Suppose 10 of the 30 assignments are included in the final course score. Use random selection. Letter grades are defined in the syllabus​\n",
    "\n",
    "Choose one of the following options:​\n",
    "\n",
    "Describe in writing how you would calculate the course grade for one student. Submit your written description as a text file​\n",
    "\n",
    "Write a program in Python 3 that calculates the final grade for a student. Submit a Jupyter notebook via Blackboard.\n"
   ]
  },
  {
   "cell_type": "markdown",
   "metadata": {},
   "source": [
    "Process:\n",
    "1. input grades with tags {assignment, project, attendance}\n",
    "2. randomly select 10 assignments\n",
    "3. average score of 10 assignments out of 100. \n",
    "4. Multiply 30 by decimal value of average score/100\n",
    "5. Store as Apercent\n",
    "6. average projects and multiply decimal value by 60\n",
    "7. store as projects\n",
    "8. divide total present attendances by 15 and multiply by 10\n",
    "9. store as attendance\n",
    "10. Apercent + projecta + projectb + projectc + attendance\n",
    "11. if greater than 90 then print(A) etc."
   ]
  },
  {
   "cell_type": "code",
   "execution_count": 20,
   "metadata": {},
   "outputs": [
    {
     "name": "stdout",
     "output_type": "stream",
     "text": [
      "         Type   Grade  Max score\n",
      "0      Project     80        100\n",
      "1      Project     90        100\n",
      "2     Project      75        100\n",
      "3   Assignment     80        100\n",
      "4   Assignment     85        100\n",
      "5   Assignment     90        100\n",
      "6   Assignment    100        100\n",
      "7   Assignment     95        100\n",
      "8   Assignment     80        100\n",
      "9   Assignment     70        100\n",
      "10  Assignment     85        100\n",
      "11  Assignment     90        100\n",
      "12  Assignment     90        100\n",
      "13  Assignment     95        100\n",
      "14  Assignment     80        100\n",
      "15  Assignment     85        100\n",
      "16  Assignment     75        100\n",
      "17  Assignment     90        100\n",
      "18  Assignment    100        100\n",
      "19  Assignment    100        100\n",
      "20  Assignment     95        100\n",
      "21  Assignment     95        100\n",
      "22  Assignment     80        100\n",
      "23  Assignment     80        100\n",
      "24  Assignment     90        100\n",
      "25  Assignment     95        100\n",
      "26  Assignment     95        100\n",
      "27  Assignment      0        100\n",
      "28  Assignment    100        100\n",
      "29  Assignment     90        100\n",
      "30  Assignment     85        100\n",
      "31  Assignment     95        100\n",
      "32  Assignment     75        100\n",
      "33  Attendance     14         15\n"
     ]
    }
   ],
   "source": [
    "#input grades\n",
    "#note: created a csv as the input file which contains variables Type (project, assignment, attendance), \n",
    "#Grade (points earned), and Max (max possible score)\n",
    "import pandas as pd\n",
    "grades = pd.read_csv(\"grades.csv\")\n",
    "print(grades)"
   ]
  },
  {
   "cell_type": "code",
   "execution_count": 21,
   "metadata": {},
   "outputs": [
    {
     "name": "stdout",
     "output_type": "stream",
     "text": [
      "         Type   Grade  Max score  percentage\n",
      "0      Project     80        100    0.800000\n",
      "1      Project     90        100    0.900000\n",
      "2     Project      75        100    0.750000\n",
      "3   Assignment     80        100    0.800000\n",
      "4   Assignment     85        100    0.850000\n",
      "5   Assignment     90        100    0.900000\n",
      "6   Assignment    100        100    1.000000\n",
      "7   Assignment     95        100    0.950000\n",
      "8   Assignment     80        100    0.800000\n",
      "9   Assignment     70        100    0.700000\n",
      "10  Assignment     85        100    0.850000\n",
      "11  Assignment     90        100    0.900000\n",
      "12  Assignment     90        100    0.900000\n",
      "13  Assignment     95        100    0.950000\n",
      "14  Assignment     80        100    0.800000\n",
      "15  Assignment     85        100    0.850000\n",
      "16  Assignment     75        100    0.750000\n",
      "17  Assignment     90        100    0.900000\n",
      "18  Assignment    100        100    1.000000\n",
      "19  Assignment    100        100    1.000000\n",
      "20  Assignment     95        100    0.950000\n",
      "21  Assignment     95        100    0.950000\n",
      "22  Assignment     80        100    0.800000\n",
      "23  Assignment     80        100    0.800000\n",
      "24  Assignment     90        100    0.900000\n",
      "25  Assignment     95        100    0.950000\n",
      "26  Assignment     95        100    0.950000\n",
      "27  Assignment      0        100    0.000000\n",
      "28  Assignment    100        100    1.000000\n",
      "29  Assignment     90        100    0.900000\n",
      "30  Assignment     85        100    0.850000\n",
      "31  Assignment     95        100    0.950000\n",
      "32  Assignment     75        100    0.750000\n",
      "33  Attendance     14         15    0.933333\n"
     ]
    }
   ],
   "source": [
    "#Find decimal values\n",
    "grades['percentage'] = grades['Grade']/grades['Max score']\n",
    "print(grades)"
   ]
  },
  {
   "cell_type": "raw",
   "metadata": {},
   "source": [
    "print(grades['Type '])"
   ]
  },
  {
   "cell_type": "code",
   "execution_count": 22,
   "metadata": {},
   "outputs": [],
   "source": [
    "#Create df of individual score types\n",
    "aSsignment_Grades = grades.loc[grades['Type ']==\"Assignment\"]\n",
    "pRoject_Grades = grades.loc[grades['Type ']==\"Project\"]\n",
    "aTtendance_Grade = grades.loc[grades['Type ']==\"Attendance\"]"
   ]
  },
  {
   "cell_type": "raw",
   "metadata": {},
   "source": [
    "print(aSsignment_Grades)"
   ]
  },
  {
   "cell_type": "code",
   "execution_count": 23,
   "metadata": {},
   "outputs": [
    {
     "name": "stdout",
     "output_type": "stream",
     "text": [
      "[0.0, 0.85, 0.95, 1.0, 0.9, 0.85, 1.0, 0.7, 1.0, 0.95]\n"
     ]
    }
   ],
   "source": [
    "#Randomly select 10 assignments to score\n",
    "#used hhttps://docs.python.org/3/library/random.html#random.sample\n",
    "import random\n",
    "rAndom_assignment_grade = random.sample(list(aSsignment_Grades['percentage']), k=10)\n",
    "print(rAndom_assignment_grade)"
   ]
  },
  {
   "cell_type": "code",
   "execution_count": 24,
   "metadata": {},
   "outputs": [
    {
     "name": "stdout",
     "output_type": "stream",
     "text": [
      "0.82\n",
      "0.8500000000000001\n",
      "33    0.933333\n",
      "Name: percentage, dtype: float64\n"
     ]
    }
   ],
   "source": [
    "#Calculate Scores\n",
    "import statistics as stat\n",
    "Avg_assignments = stat.mean(rAndom_assignment_grade)\n",
    "Avg_projects = stat.mean(list(pRoject_Grades['percentage']))\n",
    "Attendance = aTtendance_Grade['percentage']\n",
    "\n",
    "print(Avg_assignments)\n",
    "print(Avg_projects)\n",
    "print(Attendance)"
   ]
  },
  {
   "cell_type": "code",
   "execution_count": 25,
   "metadata": {},
   "outputs": [
    {
     "name": "stdout",
     "output_type": "stream",
     "text": [
      "33    84.933333\n",
      "Name: percentage, dtype: float64\n"
     ]
    }
   ],
   "source": [
    "#Calculate contribution to grade\n",
    "total_grade = (Avg_assignments*30)+(Avg_projects*60)+(Attendance*10)\n",
    "print(total_grade)"
   ]
  },
  {
   "cell_type": "code",
   "execution_count": 26,
   "metadata": {},
   "outputs": [
    {
     "name": "stdout",
     "output_type": "stream",
     "text": [
      "Final Grade: B\n"
     ]
    }
   ],
   "source": [
    "#final letter grade\n",
    "total_grad = float(total_grade)\n",
    "if (total_grad >= 90):\n",
    "    print('Final Grade: ' + 'A')\n",
    "elif (total_grad >= 80 and total_grad < 90):\n",
    "    print('Final Grade: ' + 'B')\n",
    "elif (total_grad >= 70 and total_grad < 80):\n",
    "    print('Final Grade: ' + 'C')\n",
    "elif (total_grad >= 60 and total_grad < 70) == True:\n",
    "    print('Final Grade: ' + 'D')\n",
    "else: \n",
    "    print('Final Grade: ' + 'F')"
   ]
  },
  {
   "cell_type": "code",
   "execution_count": null,
   "metadata": {},
   "outputs": [],
   "source": []
  }
 ],
 "metadata": {
  "kernelspec": {
   "display_name": "Python 3",
   "language": "python",
   "name": "python3"
  },
  "language_info": {
   "codemirror_mode": {
    "name": "ipython",
    "version": 3
   },
   "file_extension": ".py",
   "mimetype": "text/x-python",
   "name": "python",
   "nbconvert_exporter": "python",
   "pygments_lexer": "ipython3",
   "version": "3.6.6"
  }
 },
 "nbformat": 4,
 "nbformat_minor": 4
}
