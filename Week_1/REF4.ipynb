{
 "cells": [
  {
   "cell_type": "markdown",
   "metadata": {},
   "source": [
    "<strong>Data 601 - Week 1 - Programming Decomposition of Course Grade</strong>\n",
    "<br>\n",
    "Assignment Description\n",
    "<br>\n",
    "Suppose the course grade is based on 30 assignments (each scored 0 to 100), three projects (each scored 0 to 100), and attendance in 15 classes (each scored as present or absent). The assignments account for 30% of the course grade, the projects are 20% each (60% total), and attendance is 10% of the course grade. Suppose 10 of the 30 assignments are included in the final course score. The 10 are randomly selected.\n",
    "\n",
    "(Letter grades are defined in the syllabus, but they are not needed for this assignment.)\n",
    "\n",
    "Write a program in Python 3 that calculates the final numeric course score on a 0 to 100 scale for a student. Submit a Jupyter notebook via Blackboard. No visualization is required."
   ]
  },
  {
   "cell_type": "markdown",
   "metadata": {},
   "source": [
    "<strong>Students Summary on notebook</strong>\n",
    "<br>\n",
    "This notebook calculates a students final numeric course score on a 0 to 100 scale under the following assumptions:\n",
    "\n",
    "Submission|Score Criteria|Percentage of Course Grade|Count\n",
    "-|-|-|-|\n",
    "Assignments|0 to 100|30%|30 - only 10 randomly selected assignments count towards final grade|\n",
    "Projects|0 to 100|60%|3|\n",
    "Attendance|Present or Absent|10%|15|\n",
    "\n",
    "Scores are entered via user inputs"
   ]
  },
  {
   "cell_type": "code",
   "execution_count": null,
   "metadata": {},
   "outputs": [],
   "source": [
    "# Import necessary libraries\n",
    "\n",
    "import pandas as pd\n",
    "from numpy import random"
   ]
  },
  {
   "cell_type": "markdown",
   "metadata": {},
   "source": [
    "The following block calculates a students total project score as a percentage of the total course score given inputs entered from the user"
   ]
  },
  {
   "cell_type": "code",
   "execution_count": null,
   "metadata": {},
   "outputs": [],
   "source": [
    "# https://stackoverflow.com/questions/23294658/asking-the-user-for-input-until-they-give-a-valid-response\n",
    "\n",
    "project_scores = list()\n",
    "count = 0\n",
    "\n",
    "# The follwoing while loop executes until x number of accepted elements are in the list\n",
    "while count < 3:\n",
    "    try:\n",
    "        scores = float(input('Enter Scores for Projects: '))\n",
    "    # The following exception handling restricts a user from only inputing numbers between 0 and 100\n",
    "    except ValueError:\n",
    "        print('Invalid input. Please try again.')\n",
    "        continue  \n",
    "    if scores < 0:\n",
    "        print('Scores must be between 0 and 100. Please try again')\n",
    "        continue\n",
    "    if scores > 100:\n",
    "        print('Scores must between 0 and 100. Please try again')\n",
    "    else:\n",
    "        count = count + 1\n",
    "        project_scores.append(scores)\n",
    "        \n",
    "print(project_scores)\n",
    "total_project_scores = (sum(project_scores)) * .20\n",
    "\n",
    "print('Students project score that counts towards the final course score is: ',\n",
    "      total_project_scores)"
   ]
  },
  {
   "cell_type": "markdown",
   "metadata": {},
   "source": [
    "The following block calculates a students total assignment score as a percentage of the total course score given inputs entered from the user. Out of the 30 scores entered by the user, only a random sampling of 10 scores is used for the total assignment score"
   ]
  },
  {
   "cell_type": "code",
   "execution_count": null,
   "metadata": {},
   "outputs": [],
   "source": [
    "# https://stackoverflow.com/questions/23294658/asking-the-user-for-input-until-they-give-a-valid-response\n",
    "\n",
    "assignment_scores = list()\n",
    "count = 0\n",
    "\n",
    "# The follwoing while loop executes until x number of accepted elements are in the list\n",
    "while count < 30:\n",
    "    try:\n",
    "        scores = float(input('Enter Scores for Assignments: '))\n",
    "    # The following exception handling restricts a user from only inputing numbers between 0 and 100\n",
    "    except ValueError:\n",
    "        print('Invalid input. Please try again.')\n",
    "        continue\n",
    "    if scores < 0:\n",
    "        print('Scores must be between 0 and 100. Please try again')\n",
    "        continue\n",
    "    if scores > 100:\n",
    "        print('Scores must between 0 and 100. Please try again')\n",
    "    else:\n",
    "        count = count + 1\n",
    "        assignment_scores.append(scores)\n",
    "\n",
    "# How to randomly choose x number of elements of a list was found on the below stackoverflow threads\n",
    "# https://stackoverflow.com/questions/306400/how-to-randomly-select-an-item-from-a-list\n",
    "# https://stackoverflow.com/questions/37453071/why-do-i-get-typeerror-choice-takes-2-positional-arguments-but-4-were-given\n",
    "\n",
    "sample10 = random.choice(assignment_scores, 10)\n",
    "total_assignment_scores = (sum(sample10)) * .03\n",
    "\n",
    "print('The 10 assignment scores selected at random are as follows: ',sample10)\n",
    "print('Students assignment score that counts towards the final course score is: ', \n",
    "      total_assignment_scores)"
   ]
  },
  {
   "cell_type": "markdown",
   "metadata": {},
   "source": [
    "The following block calculates a students score for attendance as a percentage of the total course score. A value of 1 is given if the student as present and 0 if the student was absent. "
   ]
  },
  {
   "cell_type": "code",
   "execution_count": null,
   "metadata": {},
   "outputs": [],
   "source": [
    "# https://stackoverflow.com/questions/23294658/asking-the-user-for-input-until-they-give-a-valid-response\n",
    "\n",
    "attendance_lst = list()\n",
    "count = 0\n",
    "\n",
    "# The follwoing while loop executes until x number of accepted elements are in the list\n",
    "while count < 15:\n",
    "    try:\n",
    "        scores = int(input('Enter students attendance: 1 for present and 0 for absent '))\n",
    "# The following exception handling restricts a user from only inputing numbers between 0 and 1\n",
    "# 1 representing if a student was present and 0 if the student was absent\n",
    "    except ValueError:\n",
    "        print('Invalid input. Please try again.')\n",
    "        continue\n",
    "    if scores < 0:\n",
    "        print('Enter 1 for present and 0 for absent. Please try again')\n",
    "        continue\n",
    "    if scores > 1:\n",
    "        print('Enter 1 for present and 0 for absent. Please try again')\n",
    "    else:\n",
    "        count = count + 1\n",
    "        attendance_lst.append(scores)\n",
    "\n",
    "# A students individual attendance score is calculated as 1/15th of 10%\n",
    "print(attendance_lst)\n",
    "total_attendance_score = (sum(attendance_lst) * 100) * ((1/15) * .10)\n",
    "\n",
    "print('Students attendence score that counts towards the final course score is: ', \n",
    "      total_attendance_score)"
   ]
  },
  {
   "cell_type": "code",
   "execution_count": null,
   "metadata": {},
   "outputs": [],
   "source": [
    "print(\"The students final numeric course score on a 0 to 100 scale is:\", total_project_scores + total_assignment_scores + total_attendance_score)"
   ]
  },
  {
   "cell_type": "markdown",
   "metadata": {},
   "source": [
    "<br>Using list comprehension</br>\n",
    "The following blocks of \"raw\" code uses list comprehension to create a list in fewer lines of code. However I was not able to figure out how to implement exception handling. "
   ]
  },
  {
   "cell_type": "raw",
   "metadata": {},
   "source": [
    "# taking multiple inputs at a time using list comprehension\n",
    "# https://www.geeksforgeeks.org/taking-multiple-inputs-from-user-in-python/\n",
    "x = [int(x) for x in input(\"Enter students scores for 3 projects: \").split()] \n",
    "x_project = (sum(x)) * .20\n",
    "print('Students project score that counts towards the final course score is: ', \n",
    "      x_project)"
   ]
  },
  {
   "cell_type": "raw",
   "metadata": {},
   "source": [
    "y = [int(y) for y in input(\"Enter students scores for 30 assignments: \").split()] \n",
    "sample10 = random.choice(y, 10)\n",
    "y_assign = (sum(sample10)) * .03\n",
    "print('The 10 assignment scores selected at random are as follows: ',sample10)\n",
    "print('Students assignment score that counts towards the final course score is: '\n",
    "      y_assign)"
   ]
  },
  {
   "cell_type": "raw",
   "metadata": {},
   "source": [
    "z = [int(z) for z in input(\"Enter students attendance (1 for present and 0 for absent) for 15 classes: \").split()] \n",
    "z_attend = (sum(z) * 100) * ((1/15) * .10)\n",
    "print('Students attendance score that counts towards the final course score is: 'z_attend)"
   ]
  }
 ],
 "metadata": {
  "kernelspec": {
   "display_name": "Python 3",
   "language": "python",
   "name": "python3"
  },
  "language_info": {
   "codemirror_mode": {
    "name": "ipython",
    "version": 3
   },
   "file_extension": ".py",
   "mimetype": "text/x-python",
   "name": "python",
   "nbconvert_exporter": "python",
   "pygments_lexer": "ipython3",
   "version": "3.6.6"
  }
 },
 "nbformat": 4,
 "nbformat_minor": 4
}
