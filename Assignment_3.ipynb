{
  "nbformat": 4,
  "nbformat_minor": 0,
  "metadata": {
    "colab": {
      "name": "Assignment 3.ipynb",
      "provenance": [],
      "authorship_tag": "ABX9TyPbt64myrYJ4Ev7ELd7tIwC",
      "include_colab_link": true
    },
    "kernelspec": {
      "name": "python3",
      "display_name": "Python 3"
    }
  },
  "cells": [
    {
      "cell_type": "markdown",
      "metadata": {
        "id": "view-in-github",
        "colab_type": "text"
      },
      "source": [
        "<a href=\"https://colab.research.google.com/github/Tchuissi/601-Introduction-of-Data-Science/blob/master/Assignment_3.ipynb\" target=\"_parent\"><img src=\"https://colab.research.google.com/assets/colab-badge.svg\" alt=\"Open In Colab\"/></a>"
      ]
    },
    {
      "cell_type": "code",
      "metadata": {
        "id": "cq-FzGMT_CZ-",
        "colab_type": "code",
        "colab": {}
      },
      "source": [
        ""
      ],
      "execution_count": null,
      "outputs": []
    },
    {
      "cell_type": "markdown",
      "metadata": {
        "id": "tmo8tl1K_9Z0",
        "colab_type": "text"
      },
      "source": [
        "#**Assignment 3**#"
      ]
    },
    {
      "cell_type": "code",
      "metadata": {
        "id": "unz__KzzCGOU",
        "colab_type": "code",
        "colab": {
          "base_uri": "https://localhost:8080/",
          "height": 109
        },
        "outputId": "498fc9b2-50b0-406c-a078-257f229aa68b"
      },
      "source": [
        "import random\n",
        "import numpy as np\n",
        "\n",
        "z= np.random.randint(0,10,100)\n",
        "print(z)\n",
        "print(type(z))\n",
        "print(z.shape)"
      ],
      "execution_count": 19,
      "outputs": [
        {
          "output_type": "stream",
          "text": [
            "[7 9 8 0 9 4 1 3 2 4 9 8 4 1 8 8 3 9 9 0 1 2 5 3 5 6 5 0 6 0 3 6 8 5 7 3 5\n",
            " 1 5 0 8 7 7 1 3 3 3 2 2 4 4 6 4 5 4 6 6 1 8 9 0 4 5 8 6 9 5 1 2 3 4 9 9 3\n",
            " 9 8 8 6 2 1 7 2 0 9 6 3 9 7 7 5 8 5 5 9 8 3 4 3 3 6]\n",
            "<class 'numpy.ndarray'>\n",
            "(100,)\n"
          ],
          "name": "stdout"
        }
      ]
    },
    {
      "cell_type": "code",
      "metadata": {
        "id": "5gGGLCtjEQY6",
        "colab_type": "code",
        "colab": {
          "base_uri": "https://localhost:8080/",
          "height": 219
        },
        "outputId": "1ce9f348-e94d-4504-8835-d56742d50a7d"
      },
      "source": [
        "X = z.reshape(10,10)\n",
        "\n",
        "print(X.shape)\n",
        "print(X)"
      ],
      "execution_count": 26,
      "outputs": [
        {
          "output_type": "stream",
          "text": [
            "(10, 10)\n",
            "[[7 9 8 0 9 4 1 3 2 4]\n",
            " [9 8 4 1 8 8 3 9 9 0]\n",
            " [1 2 5 3 5 6 5 0 6 0]\n",
            " [3 6 8 5 7 3 5 1 5 0]\n",
            " [8 7 7 1 3 3 3 2 2 4]\n",
            " [4 6 4 5 4 6 6 1 8 9]\n",
            " [0 4 5 8 6 9 5 1 2 3]\n",
            " [4 9 9 3 9 8 8 6 2 1]\n",
            " [7 2 0 9 6 3 9 7 7 5]\n",
            " [8 5 5 9 8 3 4 3 3 6]]\n"
          ],
          "name": "stdout"
        }
      ]
    }
  ]
}