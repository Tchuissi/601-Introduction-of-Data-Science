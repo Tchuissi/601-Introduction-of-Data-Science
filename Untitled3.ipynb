{
  "nbformat": 4,
  "nbformat_minor": 0,
  "metadata": {
    "colab": {
      "name": "Untitled3.ipynb",
      "provenance": [],
      "authorship_tag": "ABX9TyMvLPaOnG47LMatHTttHCLv",
      "include_colab_link": true
    },
    "kernelspec": {
      "name": "python3",
      "display_name": "Python 3"
    }
  },
  "cells": [
    {
      "cell_type": "markdown",
      "metadata": {
        "id": "view-in-github",
        "colab_type": "text"
      },
      "source": [
        "<a href=\"https://colab.research.google.com/github/Tchuissi/601-Introduction-of-Data-Science/blob/master/Untitled3.ipynb\" target=\"_parent\"><img src=\"https://colab.research.google.com/assets/colab-badge.svg\" alt=\"Open In Colab\"/></a>"
      ]
    },
    {
      "cell_type": "code",
      "metadata": {
        "id": "AdrpBS_FNEsK",
        "colab_type": "code",
        "colab": {}
      },
      "source": [
        ""
      ],
      "execution_count": null,
      "outputs": []
    },
    {
      "cell_type": "markdown",
      "metadata": {
        "id": "TlyKvo3ZNFcT",
        "colab_type": "text"
      },
      "source": [
        "#**Numpy et Matplotlib**#"
      ]
    },
    {
      "cell_type": "code",
      "metadata": {
        "id": "LnS_xyN4NKP9",
        "colab_type": "code",
        "colab": {}
      },
      "source": [
        "import numpy as np\n",
        "import matplotlib.pyplot as plt"
      ],
      "execution_count": 1,
      "outputs": []
    },
    {
      "cell_type": "markdown",
      "metadata": {
        "id": "UE6-Y_5FOKu0",
        "colab_type": "text"
      },
      "source": [
        "**Création de tableaux avec np.array**"
      ]
    },
    {
      "cell_type": "code",
      "metadata": {
        "id": "9OSiY1pWOS_X",
        "colab_type": "code",
        "colab": {
          "base_uri": "https://localhost:8080/",
          "height": 54
        },
        "outputId": "503a8159-f4c0-4908-eee2-e7ca366ef368"
      },
      "source": [
        "v= np.array ([1,3,2,4])\n",
        "print(v)\n",
        "print(type(v))"
      ],
      "execution_count": 2,
      "outputs": [
        {
          "output_type": "stream",
          "text": [
            "[1 3 2 4]\n",
            "<class 'numpy.ndarray'>\n"
          ],
          "name": "stdout"
        }
      ]
    },
    {
      "cell_type": "code",
      "metadata": {
        "id": "cY6KbCP-Oiw9",
        "colab_type": "code",
        "colab": {
          "base_uri": "https://localhost:8080/",
          "height": 265
        },
        "outputId": "55ff4e15-3b60-44fb-8330-7580828b86b1"
      },
      "source": [
        "plt.figure()\n",
        "plt.plot(v)\n",
        "plt.show()\n"
      ],
      "execution_count": 7,
      "outputs": [
        {
          "output_type": "display_data",
          "data": {
            "image/png": "[encoded data removed]",
            "text/plain": [
              "<Figure size 432x288 with 1 Axes>"
            ]
          },
          "metadata": {
            "tags": [],
            "needs_background": "light"
          }
        }
      ]
    },
    {
      "cell_type": "code",
      "metadata": {
        "id": "knYCRgyWO3xf",
        "colab_type": "code",
        "colab": {
          "base_uri": "https://localhost:8080/",
          "height": 295
        },
        "outputId": "03d616ce-1b30-40a5-d57c-2c7e376bcf15"
      },
      "source": [
        "x= np.array([0,2,4,6])\n",
        "plt.figure()\n",
        "plt.plot(x, v, 'r--', label='vecteur')\n",
        "plt.xlabel('x')\n",
        "plt.ylabel('v')\n",
        "plt.title('Exemple titre')\n",
        "plt.legend(loc='lower right')\n",
        "plt.show()"
      ],
      "execution_count": 8,
      "outputs": [
        {
          "output_type": "display_data",
          "data": {
            "image/png": "[encoded data removed]",
            "text/plain": [
              "<Figure size 432x288 with 1 Axes>"
            ]
          },
          "metadata": {
            "tags": [],
            "needs_background": "light"
          }
        }
      ]
    },
    {
      "cell_type": "code",
      "metadata": {
        "id": "LNzj9A35PW-Q",
        "colab_type": "code",
        "colab": {
          "base_uri": "https://localhost:8080/",
          "height": 72
        },
        "outputId": "99ed9b19-51c1-4882-aaa4-d97a23364c1d"
      },
      "source": [
        "M= np.array ([[1,3], [2,4]])\n",
        "print(M)\n",
        "print(type(M))"
      ],
      "execution_count": 11,
      "outputs": [
        {
          "output_type": "stream",
          "text": [
            "[[1 3]\n",
            " [2 4]]\n",
            "<class 'numpy.ndarray'>\n"
          ],
          "name": "stdout"
        }
      ]
    },
    {
      "cell_type": "code",
      "metadata": {
        "id": "6pX2OkudP38c",
        "colab_type": "code",
        "colab": {
          "base_uri": "https://localhost:8080/",
          "height": 72
        },
        "outputId": "e59a2dba-3a6a-4c7a-881d-ef399403d42f"
      },
      "source": [
        "print(v.shape)              # shape calcul la taille\n",
        "print(M.shape)\n",
        "print(type(M.shape))"
      ],
      "execution_count": 12,
      "outputs": [
        {
          "output_type": "stream",
          "text": [
            "(4,)\n",
            "(2, 2)\n",
            "<class 'tuple'>\n"
          ],
          "name": "stdout"
        }
      ]
    },
    {
      "cell_type": "code",
      "metadata": {
        "id": "Y4eN6fOMQF9R",
        "colab_type": "code",
        "colab": {
          "base_uri": "https://localhost:8080/",
          "height": 54
        },
        "outputId": "8488a5a9-3fbc-4e05-fdbf-0c256be24c44"
      },
      "source": [
        "print(v.ndim)          # ndim permet de savoir la dimension d'un array\n",
        "print(M.ndim)\n"
      ],
      "execution_count": 19,
      "outputs": [
        {
          "output_type": "stream",
          "text": [
            "1\n",
            "2\n"
          ],
          "name": "stdout"
        }
      ]
    },
    {
      "cell_type": "code",
      "metadata": {
        "id": "xehyoUNtQcXV",
        "colab_type": "code",
        "colab": {}
      },
      "source": [
        "print(v.size)\n",
        "print(M.size)                  # size permet de savoir quel est le nombre d'éléments dans un ndarray"
      ],
      "execution_count": null,
      "outputs": []
    },
    {
      "cell_type": "code",
      "metadata": {
        "id": "NC1RLdkCQsma",
        "colab_type": "code",
        "colab": {
          "base_uri": "https://localhost:8080/",
          "height": 164
        },
        "outputId": "a67f2497-2372-4ec7-bd9e-a0844d9afda3"
      },
      "source": [
        "T=np.array([[[1,3,2,4]]])          # exemple tableau à trois dimensions\n",
        "print(T)\n",
        "\n",
        "print(\"\\n\", T.shape)\n",
        "print(\"\\n\", T.ndim)\n",
        "print(\"\\n\", T.size)\n",
        "np.size(T)"
      ],
      "execution_count": 24,
      "outputs": [
        {
          "output_type": "stream",
          "text": [
            "[[[1 3 2 4]]]\n",
            "\n",
            " (1, 1, 4)\n",
            "\n",
            " 3\n",
            "\n",
            " 4\n"
          ],
          "name": "stdout"
        },
        {
          "output_type": "execute_result",
          "data": {
            "text/plain": [
              "4"
            ]
          },
          "metadata": {
            "tags": []
          },
          "execution_count": 24
        }
      ]
    },
    {
      "cell_type": "code",
      "metadata": {
        "id": "G1a43PdKR7Vp",
        "colab_type": "code",
        "colab": {
          "base_uri": "https://localhost:8080/",
          "height": 35
        },
        "outputId": "47bb2d45-b773-41ee-cf80-73e8ffadc6b0"
      },
      "source": [
        "print(M.dtype)        # dtype (data type) donne le type de données dans le tableau"
      ],
      "execution_count": 25,
      "outputs": [
        {
          "output_type": "stream",
          "text": [
            "int64\n"
          ],
          "name": "stdout"
        }
      ]
    },
    {
      "cell_type": "code",
      "metadata": {
        "id": "DIN2eewFSGNt",
        "colab_type": "code",
        "colab": {
          "base_uri": "https://localhost:8080/",
          "height": 35
        },
        "outputId": "c9a2fb7d-b49c-458a-eb74-9dcd6b1340bf"
      },
      "source": [
        "M.itemsize             #nombre d'octets par élément"
      ],
      "execution_count": 26,
      "outputs": [
        {
          "output_type": "execute_result",
          "data": {
            "text/plain": [
              "8"
            ]
          },
          "metadata": {
            "tags": []
          },
          "execution_count": 26
        }
      ]
    },
    {
      "cell_type": "code",
      "metadata": {
        "id": "gRwjIqr2SOXi",
        "colab_type": "code",
        "colab": {
          "base_uri": "https://localhost:8080/",
          "height": 35
        },
        "outputId": "38586215-3966-4a08-9673-a590797085ca"
      },
      "source": [
        "M.nbytes              #nombre d'octets"
      ],
      "execution_count": 27,
      "outputs": [
        {
          "output_type": "execute_result",
          "data": {
            "text/plain": [
              "32"
            ]
          },
          "metadata": {
            "tags": []
          },
          "execution_count": 27
        }
      ]
    },
    {
      "cell_type": "code",
      "metadata": {
        "id": "hbaBvkPBSR-g",
        "colab_type": "code",
        "colab": {
          "base_uri": "https://localhost:8080/",
          "height": 35
        },
        "outputId": "4edf03e8-a305-4ea5-81b7-0e97bce72d37"
      },
      "source": [
        "M.nbytes/M.size            #égal à itemsize"
      ],
      "execution_count": 28,
      "outputs": [
        {
          "output_type": "execute_result",
          "data": {
            "text/plain": [
              "8.0"
            ]
          },
          "metadata": {
            "tags": []
          },
          "execution_count": 28
        }
      ]
    },
    {
      "cell_type": "code",
      "metadata": {
        "id": "TIJjx5hjSaoE",
        "colab_type": "code",
        "colab": {
          "base_uri": "https://localhost:8080/",
          "height": 54
        },
        "outputId": "a68ec67d-42e5-4f6b-f096-64511b408db2"
      },
      "source": [
        "M[0,0] = -1\n",
        "print(M)"
      ],
      "execution_count": 29,
      "outputs": [
        {
          "output_type": "stream",
          "text": [
            "[[-1  3]\n",
            " [ 2  4]]\n"
          ],
          "name": "stdout"
        }
      ]
    },
    {
      "cell_type": "code",
      "metadata": {
        "id": "vs1-SXqKSmQX",
        "colab_type": "code",
        "colab": {
          "base_uri": "https://localhost:8080/",
          "height": 54
        },
        "outputId": "c46c5d4d-f52d-4d32-861b-4dab06789bf7"
      },
      "source": [
        "a= np.array ([0,0,0])\n",
        "print(a.dtype)\n",
        "a[0]=3.2               #perte de précision\n",
        "print(a)"
      ],
      "execution_count": 30,
      "outputs": [
        {
          "output_type": "stream",
          "text": [
            "int64\n",
            "[3 0 0]\n"
          ],
          "name": "stdout"
        }
      ]
    },
    {
      "cell_type": "code",
      "metadata": {
        "id": "DXKn-RDoS3g0",
        "colab_type": "code",
        "colab": {
          "base_uri": "https://localhost:8080/",
          "height": 35
        },
        "outputId": "80fa8435-831a-40b2-d99b-31a0d228b093"
      },
      "source": [
        "a=np.array([0,0,0], dtype=np.float64)            #précision du type et du bits\n",
        "a[0]= 3.2\n",
        "print(a)"
      ],
      "execution_count": 31,
      "outputs": [
        {
          "output_type": "stream",
          "text": [
            "[3.2 0.  0. ]\n"
          ],
          "name": "stdout"
        }
      ]
    },
    {
      "cell_type": "code",
      "metadata": {
        "id": "YpgMjYyLTJFr",
        "colab_type": "code",
        "colab": {
          "base_uri": "https://localhost:8080/",
          "height": 35
        },
        "outputId": "83d405be-23c8-4424-f016-7ff62316d8e3"
      },
      "source": [
        "M=np.array([[-1,2], [0,4]])\n",
        "print(M.dtype)"
      ],
      "execution_count": 32,
      "outputs": [
        {
          "output_type": "stream",
          "text": [
            "int64\n"
          ],
          "name": "stdout"
        }
      ]
    },
    {
      "cell_type": "code",
      "metadata": {
        "id": "V8tN3so5TSE3",
        "colab_type": "code",
        "colab": {
          "base_uri": "https://localhost:8080/",
          "height": 72
        },
        "outputId": "f989888f-eac9-4948-8aec-1685d0da74a6"
      },
      "source": [
        "M2= M.astype(float)            #conversion en float\n",
        "print(M2)\n",
        "print(M2.dtype)\n"
      ],
      "execution_count": 33,
      "outputs": [
        {
          "output_type": "stream",
          "text": [
            "[[-1.  2.]\n",
            " [ 0.  4.]]\n",
            "float64\n"
          ],
          "name": "stdout"
        }
      ]
    },
    {
      "cell_type": "code",
      "metadata": {
        "id": "EWYKin_HTedI",
        "colab_type": "code",
        "colab": {
          "base_uri": "https://localhost:8080/",
          "height": 72
        },
        "outputId": "fa7008c9-ae5c-4787-e6a5-e67a3850ad3f"
      },
      "source": [
        "M3= M.astype(bool)            #conversion en bool\n",
        "print(M3)\n",
        "print(M3.dtype)\n"
      ],
      "execution_count": 34,
      "outputs": [
        {
          "output_type": "stream",
          "text": [
            "[[ True  True]\n",
            " [False  True]]\n",
            "bool\n"
          ],
          "name": "stdout"
        }
      ]
    },
    {
      "cell_type": "code",
      "metadata": {
        "id": "s7LE0kE_TrDx",
        "colab_type": "code",
        "colab": {
          "base_uri": "https://localhost:8080/",
          "height": 35
        },
        "outputId": "eaa8ca27-f340-44c8-897f-411635aa5cd7"
      },
      "source": [
        "x=np.array(range(0,10,2))            # à partir d'une liste\n",
        "print(x)"
      ],
      "execution_count": 35,
      "outputs": [
        {
          "output_type": "stream",
          "text": [
            "[0 2 4 6 8]\n"
          ],
          "name": "stdout"
        }
      ]
    },
    {
      "cell_type": "code",
      "metadata": {
        "id": "e8YGUgdqTzaQ",
        "colab_type": "code",
        "colab": {
          "base_uri": "https://localhost:8080/",
          "height": 35
        },
        "outputId": "5cb63b80-683a-4860-8476-7c28b55d8858"
      },
      "source": [
        "x= np.arange(0,10,2)     # plus efficace\n",
        "print(x)"
      ],
      "execution_count": 36,
      "outputs": [
        {
          "output_type": "stream",
          "text": [
            "[0 2 4 6 8]\n"
          ],
          "name": "stdout"
        }
      ]
    },
    {
      "cell_type": "code",
      "metadata": {
        "id": "UPRbidtrT7nX",
        "colab_type": "code",
        "colab": {
          "base_uri": "https://localhost:8080/",
          "height": 35
        },
        "outputId": "89c7e608-e783-4419-a710-bca3076be491"
      },
      "source": [
        "x= np.arange(-1,1,0.5)         # avec flottants\n",
        "print(x)"
      ],
      "execution_count": 37,
      "outputs": [
        {
          "output_type": "stream",
          "text": [
            "[-1.  -0.5  0.   0.5]\n"
          ],
          "name": "stdout"
        }
      ]
    },
    {
      "cell_type": "code",
      "metadata": {
        "id": "DsGxF72zUJkq",
        "colab_type": "code",
        "colab": {
          "base_uri": "https://localhost:8080/",
          "height": 35
        },
        "outputId": "6a9a5bbd-0059-410d-a11b-299e6247711c"
      },
      "source": [
        "np.linspace(0,10,6)                        # avec linspace, le début et la fin sont inclus"
      ],
      "execution_count": 38,
      "outputs": [
        {
          "output_type": "execute_result",
          "data": {
            "text/plain": [
              "array([ 0.,  2.,  4.,  6.,  8., 10.])"
            ]
          },
          "metadata": {
            "tags": []
          },
          "execution_count": 38
        }
      ]
    },
    {
      "cell_type": "code",
      "metadata": {
        "id": "DBTvrgaEURW4",
        "colab_type": "code",
        "colab": {
          "base_uri": "https://localhost:8080/",
          "height": 265
        },
        "outputId": "353cbe17-eb2d-470c-d50d-70f92d524214"
      },
      "source": [
        "x=np.linspace(-10, 10, 100)\n",
        "y= np.sin(x)\n",
        "plt.plot(x, y, label = '$y=\\sin(x)$')\n",
        "plt.legend()\n",
        "plt.show()"
      ],
      "execution_count": 39,
      "outputs": [
        {
          "output_type": "display_data",
          "data": {
            "image/png": "[encoded data removed]",
            "text/plain": [
              "<Figure size 432x288 with 1 Axes>"
            ]
          },
          "metadata": {
            "tags": [],
            "needs_background": "light"
          }
        }
      ]
    },
    {
      "cell_type": "code",
      "metadata": {
        "id": "yWjA9ASZVF9m",
        "colab_type": "code",
        "colab": {
          "base_uri": "https://localhost:8080/",
          "height": 35
        },
        "outputId": "6bd93978-4fb9-4862-ff41-a1cd3f16b72d"
      },
      "source": [
        "a= np.arange (5, dtype=float)\n",
        "print(a)"
      ],
      "execution_count": 40,
      "outputs": [
        {
          "output_type": "stream",
          "text": [
            "[0. 1. 2. 3. 4.]\n"
          ],
          "name": "stdout"
        }
      ]
    },
    {
      "cell_type": "code",
      "metadata": {
        "id": "CwnvC2mYVOnO",
        "colab_type": "code",
        "colab": {
          "base_uri": "https://localhost:8080/",
          "height": 35
        },
        "outputId": "b2e0e7be-fd53-4a62-dadc-2b3b1d8f7826"
      },
      "source": [
        "print(a+1)"
      ],
      "execution_count": 41,
      "outputs": [
        {
          "output_type": "stream",
          "text": [
            "[1. 2. 3. 4. 5.]\n"
          ],
          "name": "stdout"
        }
      ]
    },
    {
      "cell_type": "code",
      "metadata": {
        "id": "8VrKkIEOVR4J",
        "colab_type": "code",
        "colab": {
          "base_uri": "https://localhost:8080/",
          "height": 35
        },
        "outputId": "cda83f7c-7f0a-4eb3-9731-0474ad80fab8"
      },
      "source": [
        "print(2*a)"
      ],
      "execution_count": 42,
      "outputs": [
        {
          "output_type": "stream",
          "text": [
            "[0. 2. 4. 6. 8.]\n"
          ],
          "name": "stdout"
        }
      ]
    },
    {
      "cell_type": "code",
      "metadata": {
        "id": "yC0j1Dy9VWUo",
        "colab_type": "code",
        "colab": {
          "base_uri": "https://localhost:8080/",
          "height": 35
        },
        "outputId": "aecfdfa6-a55f-4e7b-9300-6c448ca5f3d2"
      },
      "source": [
        "print(a**2)"
      ],
      "execution_count": 43,
      "outputs": [
        {
          "output_type": "stream",
          "text": [
            "[ 0.  1.  4.  9. 16.]\n"
          ],
          "name": "stdout"
        }
      ]
    },
    {
      "cell_type": "code",
      "metadata": {
        "id": "oSHkjblGVYXT",
        "colab_type": "code",
        "colab": {
          "base_uri": "https://localhost:8080/",
          "height": 54
        },
        "outputId": "a2792130-9d9c-4dd2-b604-76a5d08ad8c1"
      },
      "source": [
        "print(a+a)        # addition et multiplication élément par élément\n",
        "\n",
        "print (a*a)"
      ],
      "execution_count": 44,
      "outputs": [
        {
          "output_type": "stream",
          "text": [
            "[0. 2. 4. 6. 8.]\n",
            "[ 0.  1.  4.  9. 16.]\n"
          ],
          "name": "stdout"
        }
      ]
    },
    {
      "cell_type": "code",
      "metadata": {
        "id": "SU_3yFKtVkjX",
        "colab_type": "code",
        "colab": {}
      },
      "source": [
        "from numpy import random"
      ],
      "execution_count": 45,
      "outputs": []
    }
  ]
}