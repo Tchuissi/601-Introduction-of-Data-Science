{
  "nbformat": 4,
  "nbformat_minor": 0,
  "metadata": {
    "colab": {
      "name": "assignment 4 601.ipynb",
      "provenance": [],
      "authorship_tag": "ABX9TyOMn0GzseeCj1iz1qQr8gLQ",
      "include_colab_link": true
    },
    "kernelspec": {
      "name": "python3",
      "display_name": "Python 3"
    }
  },
  "cells": [
    {
      "cell_type": "markdown",
      "metadata": {
        "id": "view-in-github",
        "colab_type": "text"
      },
      "source": [
        "<a href=\"https://colab.research.google.com/github/Tchuissi/601-Introduction-of-Data-Science/blob/master/assignment_4_601.ipynb\" target=\"_parent\"><img src=\"https://colab.research.google.com/assets/colab-badge.svg\" alt=\"Open In Colab\"/></a>"
      ]
    },
    {
      "cell_type": "code",
      "metadata": {
        "id": "5fX20JyI54ST",
        "colab_type": "code",
        "colab": {}
      },
      "source": [
        "def persons_name()"
      ],
      "execution_count": null,
      "outputs": []
    },
    {
      "cell_type": "code",
      "metadata": {
        "id": "FkaeMy_Y1WR6",
        "colab_type": "code",
        "colab": {}
      },
      "source": [
        "\n",
        "def fake_data(file_name, nb_entities):\n",
        "  \"\"\"\n",
        "  \"\"\"\n",
        "  with open (file_name, \"wt\") as f:\n",
        "    f.write(\"Person's name, Email, Phone numbers, Year born, Home Address, Number of kids,Rent or Own\")\n",
        "fake_data(\"Final_Data.csv\",100)"
      ],
      "execution_count": 7,
      "outputs": []
    },
    {
      "cell_type": "code",
      "metadata": {
        "id": "MnF7aKUt53Pr",
        "colab_type": "code",
        "colab": {}
      },
      "source": [
        ""
      ],
      "execution_count": null,
      "outputs": []
    },
    {
      "cell_type": "code",
      "metadata": {
        "id": "rxLvX3dm5gyC",
        "colab_type": "code",
        "colab": {}
      },
      "source": [
        ""
      ],
      "execution_count": 8,
      "outputs": []
    }
  ]
}