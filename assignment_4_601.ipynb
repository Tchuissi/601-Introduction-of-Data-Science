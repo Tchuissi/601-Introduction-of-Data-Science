{
  "nbformat": 4,
  "nbformat_minor": 0,
  "metadata": {
    "colab": {
      "name": "assignment 4 601.ipynb",
      "provenance": [],
      "authorship_tag": "ABX9TyMsTjyKNjNaMZ1QDQIkyO/n",
      "include_colab_link": true
    },
    "kernelspec": {
      "name": "python3",
      "display_name": "Python 3"
    }
  },
  "cells": [
    {
      "cell_type": "markdown",
      "metadata": {
        "id": "view-in-github",
        "colab_type": "text"
      },
      "source": [
        "<a href=\"https://colab.research.google.com/github/Tchuissi/601-Introduction-of-Data-Science/blob/master/assignment_4_601.ipynb\" target=\"_parent\"><img src=\"https://colab.research.google.com/assets/colab-badge.svg\" alt=\"Open In Colab\"/></a>"
      ]
    },
    {
      "cell_type": "code",
      "metadata": {
        "id": "FkaeMy_Y1WR6",
        "colab_type": "code",
        "colab": {}
      },
      "source": [
        "import random\n",
        "\n",
        "def person_name():\n",
        "  with open(\"fullnames.csv\", \"rt\") as f:\n",
        "    list_persons = f.readlines()\n",
        "    tab = []\n",
        "    for name in list_persons:\n",
        "      tab.append(name.replace(\",\", \" \").replace(\"\\n\", \"\"))\n",
        "    #print(tab)\n",
        "  randomIndex = random.randint(0,len(tab)-1)\n",
        "  fullname = tab[randomIndex]\n",
        "  #print(fullname)\n",
        "  return fullname\n",
        "\n",
        "def mail(name):\n",
        "  domain = ['gmail', 'yahoo', 'hotmail']\n",
        "  randomIndex = random.randint(0,len(domain) -1)\n",
        "  return name.lower().replace(\" \", \".\") + '@' + domain[randomIndex] + '.com'\n",
        "\n",
        "def number_kids():\n",
        "  return str(random.randint(0,8))\n",
        "\n",
        "def year_born():\n",
        "  return str(random.randint(1930,2020))\n",
        "\n",
        "def phone_number() :\n",
        "  def getNumbers(nb):\n",
        "    number = ''\n",
        "    for i in range(nb):\n",
        "      number += str(random.randint(0,9)) \n",
        "    return number\n",
        "  return getNumbers(3) + \"-\" + getNumbers(3) + \"-\" + getNumbers(4)\n",
        "\n",
        "def rent_own():\n",
        "  choice= ['Rent', \"Own\"]\n",
        "  randomIndex= random.randint(0,len(choice)-1)\n",
        "  return choice[randomIndex]\n",
        "\n",
        "def home_address(name, cities):\n",
        "  address=['Street', 'Drive']\n",
        "  randomIndex=random.randint(0,len(address)-1)\n",
        "  city = cities[random.randint(0, len(cities)-1)]\n",
        "  return str(random.randint(1,9999))+\" \"+ name +\" \" + address[randomIndex]+ \" \"+ str(random.randint(10000,99999))+ \" \"+ city\n",
        "\n",
        "def list_cities():\n",
        "  with open (\"us_cities1.csv\", \"rt\")as f:\n",
        "    list_cities=f.readlines()\n",
        "    result_list_cities = []\n",
        "    for row in list_cities[:300]:\n",
        "      tab_city = row.replace(\"\\\"\", \"\").split(\",\")\n",
        "      result_list_cities.append(tab_city[0]+ \" \"+ tab_city[2])\n",
        "  return result_list_cities\n",
        "\n",
        "def fake_data(file_name, nb_entities):\n",
        "  \"\"\"\n",
        "  \"\"\"\n",
        "  cities = list_cities()\n",
        "  with open (file_name, \"wt\") as f:\n",
        "    f.write(\"Person's name, Email, Number of kids, Year born, Phone number,Rent or Own, Home Address\\n\")\n",
        "    for i in range(nb_entities): \n",
        "      line = ''\n",
        "      name = person_name()\n",
        "      line += name\n",
        "      line += ',' + mail(name)\n",
        "      line += ','+ number_kids()\n",
        "      line += ','+ year_born()\n",
        "      line += ',' + phone_number()\n",
        "      line += ','+ rent_own()\n",
        "      line += ','+ home_address(name, cities)+ '\\n'\n",
        "      #line += ',\\n'\n",
        "      f.write(line)\n",
        "fake_data(\"Final_Data.csv\",100)"
      ],
      "execution_count": 29,
      "outputs": []
    },
    {
      "cell_type": "code",
      "metadata": {
        "id": "5vp07eBwEUmS",
        "colab_type": "code",
        "colab": {
          "base_uri": "https://localhost:8080/",
          "height": 54
        },
        "outputId": "06d351de-74cb-40e2-c40b-74bee6f34fe8"
      },
      "source": [
        "with open (\"us_cities1.csv\", \"rt\")as f:\n",
        "    list_cities=f.readlines()\n",
        "    #t = list_cities[0].replace(\"\\\"\",\"\").split(\",\")\n",
        "    for row in list_cities[:2]:\n",
        "      tab_city = row.replace(\"\\\"\", \"\").split(\",\")\n",
        "      city_states = tab_city[0]+ \" \"+ tab_city[2]\n",
        "      print(city_states)\n"
      ],
      "execution_count": 25,
      "outputs": [
        {
          "output_type": "stream",
          "text": [
            "New York NY\n",
            "Los Angeles CA\n"
          ],
          "name": "stdout"
        }
      ]
    },
    {
      "cell_type": "code",
      "metadata": {
        "id": "RUbe-6SbCCk1",
        "colab_type": "code",
        "colab": {}
      },
      "source": [
        ""
      ],
      "execution_count": null,
      "outputs": []
    },
    {
      "cell_type": "code",
      "metadata": {
        "id": "MnF7aKUt53Pr",
        "colab_type": "code",
        "colab": {}
      },
      "source": [
        ""
      ],
      "execution_count": null,
      "outputs": []
    },
    {
      "cell_type": "code",
      "metadata": {
        "id": "rxLvX3dm5gyC",
        "colab_type": "code",
        "colab": {}
      },
      "source": [
        ""
      ],
      "execution_count": 8,
      "outputs": []
    }
  ]
}