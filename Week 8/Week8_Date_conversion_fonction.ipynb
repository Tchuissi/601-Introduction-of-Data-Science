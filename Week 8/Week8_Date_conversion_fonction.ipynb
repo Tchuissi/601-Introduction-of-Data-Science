{
 "cells": [
  {
   "cell_type": "markdown",
   "metadata": {},
   "source": [
    "# Week 8 - assignment - date conversion function"
   ]
  },
  {
   "cell_type": "markdown",
   "metadata": {},
   "source": [
    "Complete the function that converts date to day of week\n",
    "\n",
    "The function should pass the doctest"
   ]
  },
  {
   "cell_type": "code",
   "execution_count": 53,
   "metadata": {},
   "outputs": [],
   "source": [
    "# https://kolesnikov.ga/Testing_and_Debugging_Jupyter_Notebooks/\n",
    "import doctest"
   ]
  },
  {
   "cell_type": "code",
   "execution_count": 54,
   "metadata": {},
   "outputs": [],
   "source": [
    "from dateutil import parser"
   ]
  },
  {
   "cell_type": "code",
   "execution_count": 63,
   "metadata": {},
   "outputs": [],
   "source": [
    "def convert_datetime_to_dayofweek(datetime_string):\n",
    "    \"\"\"\n",
    "    This function takes date in the format MON DAY YEAR  HH:MM(PM/AM)\n",
    "    and returns the day of the week\n",
    "    Assume input string is UTC\n",
    "    \n",
    "    >>> convert_datetime_to_dayofweek('Jun 1 2005  1:33PM')\n",
    "    'Wednesday'\n",
    "    >>> convert_datetime_to_dayofweek('Oct 25 2012  2:17AM')\n",
    "    'Thursday'\n",
    "    \"\"\"\n",
    "    \n",
    "    dayofweek=parser.parse(datetime_string).strftime(\"%a\")  # it returns only the three letters of the day\n",
    "    if dayofweek=='Mon':\n",
    "        dayofweek= 'Mondday'\n",
    "    if dayofweek=='Tue':\n",
    "        dayofweek= 'Tuessday'\n",
    "    if dayofweek=='Wed':\n",
    "        dayofweek= 'Wednesday'\n",
    "    if dayofweek=='Thu':\n",
    "        dayofweek= 'Thursday'\n",
    "    if dayofweek=='Fri':\n",
    "        dayofweek= 'Friday'\n",
    "    if dayofweek=='Sat':\n",
    "        dayofweek= 'Saturday'\n",
    "    if dayofweek=='Sun':\n",
    "        dayofweek= 'Sunday'\n",
    "    \n",
    "    return dayofweek\n",
    "\n",
    "# Source : https://stackoverflow.com/questions/466345/converting-string-into-datetime"
   ]
  },
  {
   "cell_type": "code",
   "execution_count": 64,
   "metadata": {},
   "outputs": [
    {
     "data": {
      "text/plain": [
       "TestResults(failed=0, attempted=2)"
      ]
     },
     "execution_count": 64,
     "metadata": {},
     "output_type": "execute_result"
    }
   ],
   "source": [
    "doctest.testmod()"
   ]
  },
  {
   "cell_type": "code",
   "execution_count": 65,
   "metadata": {},
   "outputs": [
    {
     "data": {
      "text/plain": [
       "'Thursday'"
      ]
     },
     "execution_count": 65,
     "metadata": {},
     "output_type": "execute_result"
    }
   ],
   "source": [
    "convert_datetime_to_dayofweek(\"Oct 25 2012 2:17AM\")"
   ]
  },
  {
   "cell_type": "code",
   "execution_count": 66,
   "metadata": {},
   "outputs": [
    {
     "data": {
      "text/plain": [
       "'Wednesday'"
      ]
     },
     "execution_count": 66,
     "metadata": {},
     "output_type": "execute_result"
    }
   ],
   "source": [
    "convert_datetime_to_dayofweek(\"Jun 1 2005 1:33PM\")"
   ]
  },
  {
   "cell_type": "code",
   "execution_count": null,
   "metadata": {},
   "outputs": [],
   "source": []
  }
 ],
 "metadata": {
  "kernelspec": {
   "display_name": "Python 3",
   "language": "python",
   "name": "python3"
  },
  "language_info": {
   "codemirror_mode": {
    "name": "ipython",
    "version": 3
   },
   "file_extension": ".py",
   "mimetype": "text/x-python",
   "name": "python",
   "nbconvert_exporter": "python",
   "pygments_lexer": "ipython3",
   "version": "3.8.3"
  }
 },
 "nbformat": 4,
 "nbformat_minor": 2
}
