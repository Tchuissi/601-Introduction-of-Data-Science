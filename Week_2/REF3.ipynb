{
 "cells": [
  {
   "cell_type": "markdown",
   "metadata": {},
   "source": [
    "### Write a function that takes a list as the argument and returns a list with each element shifted right by one index. ​\n",
    "\n",
    "For example, [3, 7, 4, 1] becomes [1, 3, 7, 4]​\n",
    "\n",
    "Submit a .ipynb file via Blackboard. ​ ​\n",
    "\n",
    "Optional modification intended as challenges for advanced students:​\n",
    "Include error handling in the function. What happens if I don't pass a list? Can you shift characters in a string?​\n",
    "Raise an exception (with an error message) when appropriate​ ​ ​\n",
    "\n",
    "Optional modification intended as challenges for advanced students:​\n",
    "Use type hinting on the function input and output."
   ]
  },
  {
   "cell_type": "raw",
   "metadata": {},
   "source": [
    "#This was my first attempt.  Then I moved on to the below.  What do you think?\n",
    "\n",
    "def list_shift (list_param: list) -> list :\n",
    "    if type(list_param) == list :\n",
    "        list_param.insert(0,list_param[-1])\n",
    "        list_param = list_param[:-1]\n",
    "        return list_param\n",
    "    elif type(list_param)  == str :\n",
    "        print('Hey...a string is not a list, but don\\'t worry, I got this! ;-)')\n",
    "        list_param = list(list_param)\n",
    "        list_param.insert(0,list_param[-1])\n",
    "        list_param = list_param[:-1]\n",
    "        return list_param\n",
    "    else:\n",
    "        print('Please re-call the function with a list.')"
   ]
  },
  {
   "cell_type": "code",
   "execution_count": 1,
   "metadata": {},
   "outputs": [],
   "source": [
    "def list_shift (list_param: list) -> list :                                               #Create a function that takes a list argument and returns a list argument\n",
    "#This function takes a list argument and moves each elment to the right one index, taking the list index and making it the 0th index and then returns the adjusted list argument.\n",
    "#The function can handle strings by converting them to lists and other non-list arguments by kicking out an error message asking for a list.\n",
    "    \n",
    "    try:                                                                                 #the following code looking for errors\n",
    "        list_param.insert(0,list_param[-1])                                              #insert a copy of the list element in the list in the o'th position and shift the list right\n",
    "        list_param.pop()                                                                 #remove the last item from the list\n",
    "        return list_param                                                                #return the modified list\n",
    "    except AttributeError:                                                               #If a nonlist is provided then there is an attribute error because insert is not defined for non-lists\n",
    "        if type(list_param) == str:                                                      #Test to see if the argument was a string\n",
    "            print('Hey...a string is not a list, but don\\'t worry, I got this! ;-)')     \n",
    "            list_param = list(list_param)                                                #if it was a string convert the string to a list\n",
    "            list_param.insert(0,list_param[-1])                                          #insert a copy of the list element in the list in the o'th position and shift the list right\n",
    "            list_param.pop()                                                             #remove the last item from the list\n",
    "            return list_param                                                            #return the modified list\n",
    "        print('Argument was not a list.  Please re-call the function using a list.')     #if the non-list argument is not a string, print a message that explains the problem\n"
   ]
  },
  {
   "cell_type": "code",
   "execution_count": 2,
   "metadata": {},
   "outputs": [
    {
     "data": {
      "text/plain": [
       "['c', 'a', 'b']"
      ]
     },
     "execution_count": 2,
     "metadata": {},
     "output_type": "execute_result"
    }
   ],
   "source": [
    "list_shift(['a','b','c'])"
   ]
  },
  {
   "cell_type": "code",
   "execution_count": 3,
   "metadata": {},
   "outputs": [
    {
     "name": "stdout",
     "output_type": "stream",
     "text": [
      "Hey...a string is not a list, but don't worry, I got this! ;-)\n"
     ]
    },
    {
     "data": {
      "text/plain": [
       "['c', 'a', 'b']"
      ]
     },
     "execution_count": 3,
     "metadata": {},
     "output_type": "execute_result"
    }
   ],
   "source": [
    "list_shift('abc')"
   ]
  },
  {
   "cell_type": "code",
   "execution_count": null,
   "metadata": {},
   "outputs": [],
   "source": []
  }
 ],
 "metadata": {
  "kernelspec": {
   "display_name": "Python 3",
   "language": "python",
   "name": "python3"
  },
  "language_info": {
   "codemirror_mode": {
    "name": "ipython",
    "version": 3
   },
   "file_extension": ".py",
   "mimetype": "text/x-python",
   "name": "python",
   "nbconvert_exporter": "python",
   "pygments_lexer": "ipython3",
   "version": "3.6.6"
  }
 },
 "nbformat": 4,
 "nbformat_minor": 4
}
