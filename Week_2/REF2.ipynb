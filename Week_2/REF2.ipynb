{
 "cells": [
  {
   "cell_type": "markdown",
   "metadata": {},
   "source": [
    "<strong>Data 601 - Week 2 Assignment 2: Shuffle List</strong>\n",
    "<br>\n",
    "Write a function that takes a list as the argument and returns a list with each element shifted right by one index.\n",
    "\n",
    "For example, [3, 7, 4, 1] becomes [1, 3, 7, 4]\n",
    "\n",
    "Submit a .ipynb file via Blackboard.\n",
    "\n",
    "<i>Optional modification intended as challenges for advanced students:</i>\n",
    "<br>\n",
    "Include error handling in the function. What happens if I don't pass a list? Can you shift characters in a string?\n",
    "<br>\n",
    "Raise an exception (with an error message) when appropriate\n",
    "\n",
    "<i>Optional modification intended as challenges for advanced students:</i>\n",
    "<br>\n",
    "Use type hinting on the function input and output."
   ]
  },
  {
   "cell_type": "markdown",
   "metadata": {},
   "source": [
    "___\n",
    "The below function shifts each element in a string by one index using list slicing and \"+\" operator"
   ]
  },
  {
   "cell_type": "code",
   "execution_count": 1,
   "metadata": {},
   "outputs": [],
   "source": [
    "# https://www.geeksforgeeks.org/python-shift-last-element-to-first-position-in-list/\n",
    "\n",
    "def shuffle_list_func(x):\n",
    "    shift = x[-1:] + x[:-1]\n",
    "    return shift"
   ]
  },
  {
   "cell_type": "code",
   "execution_count": 2,
   "metadata": {},
   "outputs": [],
   "source": [
    "x = [1, 2, 3, 9, 10]"
   ]
  },
  {
   "cell_type": "code",
   "execution_count": 3,
   "metadata": {},
   "outputs": [
    {
     "data": {
      "text/plain": [
       "[10, 1, 2, 3, 9]"
      ]
     },
     "execution_count": 3,
     "metadata": {},
     "output_type": "execute_result"
    }
   ],
   "source": [
    "shuffle_list_func(x)"
   ]
  },
  {
   "cell_type": "raw",
   "metadata": {},
   "source": [
    "# Raw Cell - checking the data type of the variable 'x' by using the data type function\n",
    "\n",
    "type(x)"
   ]
  },
  {
   "cell_type": "markdown",
   "metadata": {},
   "source": [
    "Updating the above function using the 'isinstance' function in python check if a list is passed though"
   ]
  },
  {
   "cell_type": "code",
   "execution_count": 4,
   "metadata": {},
   "outputs": [],
   "source": [
    "# https://www.geeksforgeeks.org/type-isinstance-python/\n",
    "# The isinstance() function checks if the object (first argument) is an instance or subclass of classinfo class (second argument)\n",
    "\n",
    "def shuffle_list_func2(y):\n",
    "# Exception handling to return error if a list is not passed through\n",
    "    if isinstance(y, list):\n",
    "        shift = y[-1:] + y[:-1]\n",
    "        return shift\n",
    "    else:\n",
    "        print(\"ERROR: A list was not passed through the function\")"
   ]
  },
  {
   "cell_type": "code",
   "execution_count": 5,
   "metadata": {},
   "outputs": [],
   "source": [
    "y = [4, 7,2]"
   ]
  },
  {
   "cell_type": "code",
   "execution_count": 6,
   "metadata": {},
   "outputs": [
    {
     "data": {
      "text/plain": [
       "[2, 4, 7]"
      ]
     },
     "execution_count": 6,
     "metadata": {},
     "output_type": "execute_result"
    }
   ],
   "source": [
    "shuffle_list_func2(y)"
   ]
  }
 ],
 "metadata": {
  "kernelspec": {
   "display_name": "Python 3",
   "language": "python",
   "name": "python3"
  },
  "language_info": {
   "codemirror_mode": {
    "name": "ipython",
    "version": 3
   },
   "file_extension": ".py",
   "mimetype": "text/x-python",
   "name": "python",
   "nbconvert_exporter": "python",
   "pygments_lexer": "ipython3",
   "version": "3.7.3"
  }
 },
 "nbformat": 4,
 "nbformat_minor": 4
}
