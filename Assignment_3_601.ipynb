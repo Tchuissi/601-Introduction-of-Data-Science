{
  "nbformat": 4,
  "nbformat_minor": 0,
  "metadata": {
    "colab": {
      "name": "Assignment 3- 601.ipynb",
      "provenance": [],
      "authorship_tag": "ABX9TyP2Oo7m0GpvWF6zST9c5TMR",
      "include_colab_link": true
    },
    "kernelspec": {
      "name": "python3",
      "display_name": "Python 3"
    }
  },
  "cells": [
    {
      "cell_type": "markdown",
      "metadata": {
        "id": "view-in-github",
        "colab_type": "text"
      },
      "source": [
        "<a href=\"https://colab.research.google.com/github/Tchuissi/601-Introduction-of-Data-Science/blob/master/Assignment_3_601.ipynb\" target=\"_parent\"><img src=\"https://colab.research.google.com/assets/colab-badge.svg\" alt=\"Open In Colab\"/></a>"
      ]
    },
    {
      "cell_type": "markdown",
      "metadata": {
        "id": "JJcoDvirqxyb",
        "colab_type": "text"
      },
      "source": [
        "#**ASSIGNMENT 3 (601)**\n",
        "\n",
        " ​"
      ]
    },
    {
      "cell_type": "markdown",
      "metadata": {
        "id": "FgWFFylErI_U",
        "colab_type": "text"
      },
      "source": [
        ""
      ]
    },
    {
      "cell_type": "code",
      "metadata": {
        "id": "FkaeMy_Y1WR6",
        "colab_type": "code",
        "colab": {}
      },
      "source": [
        "#Write a Python notebook that generates a file containing the following data:​ ​\n",
        "\n",
        "#Email addresses​. Must have an \"@\"\n",
        "#Phone numbers​\n",
        "#Home Address​\n",
        "#Person's name​\n",
        "#Year born. Use realistic values.​\n",
        "#Number of kids. Use realistic values.​\n",
        "#Categorical variable: rent or own?​\n",
        "#Annual income. Optional challenge: Use a non-uniform distribution​\n",
        "#Number of speeding tickets in past year. Optional challenge: Use a non-uniform distribution​\n",
        "#The user of your notebook should be able to specify how many entities are to be generated.​ ​\n",
        "\n",
        "#​Do not include the .csv output file in your submission -- the file should be generated dynamically.\n",
        "\n",
        "#Order of columns in CSV is not relevant.\n",
        "\n",
        "\n",
        "\n",
        "\n",
        "#1 : Creation of name:\n",
        "import random\n",
        "\n",
        "def person_name():\n",
        "  with open(\"fullnames.csv\", \"rt\") as f:\n",
        "    list_persons = f.readlines()\n",
        "    tab = []\n",
        "    for name in list_persons:\n",
        "      tab.append(name.replace(\",\", \" \").replace(\"\\n\", \"\"))\n",
        "    #print(tab)\n",
        "  randomIndex = random.randint(0,len(tab)-1)\n",
        "  fullname = tab[randomIndex]\n",
        "  #print(fullname)\n",
        "  return fullname\n",
        "\n",
        "#2 : Creation of e-mails:\n",
        "def mail(name):\n",
        "  domain = ['gmail', 'yahoo', 'hotmail']\n",
        "  randomIndex = random.randint(0,len(domain) -1)\n",
        "  return name.lower().replace(\" \", \".\") + '@' + domain[randomIndex] + '.com'\n",
        "\n",
        "#3 : Creation of number of kids:\n",
        "def number_kids():\n",
        "  return str(random.randint(0,8))\n",
        "\n",
        "#4: Creation of year born:\n",
        "def year_born():\n",
        "  return str(random.randint(1930,2020))\n",
        "\n",
        "#5: Creation of phone numbers:\n",
        "def phone_number() :\n",
        "  def getNumbers(nb):\n",
        "    number = ''\n",
        "    for i in range(nb):\n",
        "      number += str(random.randint(0,9)) \n",
        "    return number\n",
        "  return getNumbers(3) + \"-\" + getNumbers(3) + \"-\" + getNumbers(4)\n",
        "\n",
        "#6: Creation of Rent or Own:\n",
        "def rent_own():\n",
        "  choice= ['Rent', \"Own\"]\n",
        "  randomIndex= random.randint(0,len(choice)-1)\n",
        "  return choice[randomIndex]\n",
        "\n",
        "#7: Creation of Home address:\n",
        "def home_address(name, cities):\n",
        "  address=['Street', 'Drive']\n",
        "  randomIndex=random.randint(0,len(address)-1)\n",
        "  city = cities[random.randint(0, len(cities)-1)]\n",
        "  return str(random.randint(1,9999))+\" \"+ name +\" \" + address[randomIndex]+ \" \"+ str(random.randint(10000,99999))+ \" \"+ city\n",
        "\n",
        "#8 : Extraction of cities and states from a file:\n",
        "def list_cities():\n",
        "  with open (\"us_cities1.csv\", \"rt\")as f:\n",
        "    list_cities=f.readlines()\n",
        "    result_list_cities = []\n",
        "    for row in list_cities[:300]:\n",
        "      tab_city = row.replace(\"\\\"\", \"\").split(\",\")\n",
        "      result_list_cities.append(tab_city[0]+ \" \"+ tab_city[2])\n",
        "  return result_list_cities\n",
        "\n",
        "#9 : Creation of the final file:\n",
        "def fake_data(file_name, nb_entities):\n",
        "  \"\"\"\n",
        "  \"\"\"\n",
        "  cities = list_cities()\n",
        "  with open (file_name, \"wt\") as f:\n",
        "    f.write(\"Person's name, Email, Number of kids, Year born, Phone number,Rent or Own, Home Address\\n\")\n",
        "    for i in range(nb_entities): \n",
        "      line = ''\n",
        "      name = person_name()\n",
        "      line += name\n",
        "      line += ',' + mail(name)\n",
        "      line += ','+ number_kids()\n",
        "      line += ','+ year_born()\n",
        "      line += ',' + phone_number()\n",
        "      line += ','+ rent_own()\n",
        "      line += ','+ home_address(name, cities)+ '\\n'\n",
        "      #line += ',\\n'\n",
        "      f.write(line)\n",
        "fake_data(\"Final_Data.csv\",100)"
      ],
      "execution_count": 2,
      "outputs": []
    },
    {
      "cell_type": "code",
      "metadata": {
        "id": "5vp07eBwEUmS",
        "colab_type": "code",
        "colab": {}
      },
      "source": [
        "#Test\n",
        "#with open (\"us_cities1.csv\", \"rt\")as f:\n",
        "    #list_cities=f.readlines()\n",
        "    #t = list_cities[0].replace(\"\\\"\",\"\").split(\",\")\n",
        "    #for row in list_cities[:2]:\n",
        "      #tab_city = row.replace(\"\\\"\", \"\").split(\",\")\n",
        "      #city_states = tab_city[0]+ \" \"+ tab_city[2]\n",
        "      #print(city_states)\n"
      ],
      "execution_count": 4,
      "outputs": []
    }
  ]
}