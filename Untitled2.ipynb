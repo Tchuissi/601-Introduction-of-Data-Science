{
  "nbformat": 4,
  "nbformat_minor": 0,
  "metadata": {
    "colab": {
      "name": "Untitled2.ipynb",
      "provenance": [],
      "authorship_tag": "ABX9TyP9/hDHikVuxRQKlPDb397m",
      "include_colab_link": true
    },
    "kernelspec": {
      "name": "python3",
      "display_name": "Python 3"
    }
  },
  "cells": [
    {
      "cell_type": "markdown",
      "metadata": {
        "id": "view-in-github",
        "colab_type": "text"
      },
      "source": [
        "<a href=\"https://colab.research.google.com/github/Tchuissi/601-Introduction-of-Data-Science/blob/master/Untitled2.ipynb\" target=\"_parent\"><img src=\"https://colab.research.google.com/assets/colab-badge.svg\" alt=\"Open In Colab\"/></a>"
      ]
    },
    {
      "cell_type": "code",
      "metadata": {
        "id": "xwFTSAA3681s",
        "colab_type": "code",
        "colab": {
          "base_uri": "https://localhost:8080/",
          "height": 35
        },
        "outputId": "5f194605-1976-491c-f494-1835af416b93"
      },
      "source": [
        "condition1= False\n",
        "condition2= False\n",
        "\n",
        "if condition1:\n",
        "  print(\"Condition1 est vraie.\")\n",
        "elif condition2:\n",
        "  print (\"condition2 est vraie.\")\n",
        "else:\n",
        "  print(\"condition1 et condition2 sont fausses.\")"
      ],
      "execution_count": 1,
      "outputs": [
        {
          "output_type": "stream",
          "text": [
            "condition1 et condition2 sont fausses.\n"
          ],
          "name": "stdout"
        }
      ]
    },
    {
      "cell_type": "code",
      "metadata": {
        "id": "B2KVtGgi7bU2",
        "colab_type": "code",
        "colab": {
          "base_uri": "https://localhost:8080/",
          "height": 35
        },
        "outputId": "1b40ffff-43fb-4e2e-9e9d-dae52f45c8f2"
      },
      "source": [
        "condition1=condition2=True\n",
        "\n",
        "if condition1:\n",
        "   if condition2:\n",
        "     print(\"condition1 et condition2 sont vraies.\")"
      ],
      "execution_count": 2,
      "outputs": [
        {
          "output_type": "stream",
          "text": [
            "condition1 et condition2 sont vraies.\n"
          ],
          "name": "stdout"
        }
      ]
    },
    {
      "cell_type": "code",
      "metadata": {
        "id": "c2qQJp3T7nWd",
        "colab_type": "code",
        "colab": {
          "base_uri": "https://localhost:8080/",
          "height": 72
        },
        "outputId": "811bf1a3-40b2-4e30-9f1b-d89f75401796"
      },
      "source": [
        "condition1=True\n",
        "\n",
        "if condition1:\n",
        "  print(\"affiche si condition1 est vraie.\")\n",
        "  print (\"\\ntoujours dans le bloc du branchement if.\")"
      ],
      "execution_count": 3,
      "outputs": [
        {
          "output_type": "stream",
          "text": [
            "affiche si condition1 est vraie.\n",
            "\n",
            "toujours dans le bloc du branchement if.\n"
          ],
          "name": "stdout"
        }
      ]
    },
    {
      "cell_type": "code",
      "metadata": {
        "id": "9aq3JxZm8XRo",
        "colab_type": "code",
        "colab": {
          "base_uri": "https://localhost:8080/",
          "height": 54
        },
        "outputId": "2f615969-9cec-424c-9a6a-46488a766216"
      },
      "source": [
        "condition1= True\n",
        "\n",
        "if condition1:\n",
        "  print(\"affiche\")\n",
        "\n",
        "print(\"en dehors du branchement.\")"
      ],
      "execution_count": 5,
      "outputs": [
        {
          "output_type": "stream",
          "text": [
            "affiche\n",
            "en dehors du branchement.\n"
          ],
          "name": "stdout"
        }
      ]
    },
    {
      "cell_type": "code",
      "metadata": {
        "id": "QGhkhSfJ8oMW",
        "colab_type": "code",
        "colab": {
          "base_uri": "https://localhost:8080/",
          "height": 72
        },
        "outputId": "d9d68e22-f5dd-4eb5-a693-a673e1ba1e95"
      },
      "source": [
        "for x in [1,2,3]:\n",
        "  print(x)"
      ],
      "execution_count": 6,
      "outputs": [
        {
          "output_type": "stream",
          "text": [
            "1\n",
            "2\n",
            "3\n"
          ],
          "name": "stdout"
        }
      ]
    },
    {
      "cell_type": "code",
      "metadata": {
        "id": "zc-NyRrQ8zvF",
        "colab_type": "code",
        "colab": {
          "base_uri": "https://localhost:8080/",
          "height": 90
        },
        "outputId": "ac9c93f9-5c4d-4225-8886-222381f2a1b4"
      },
      "source": [
        "for x in range(4):\n",
        "  print(x)"
      ],
      "execution_count": 7,
      "outputs": [
        {
          "output_type": "stream",
          "text": [
            "0\n",
            "1\n",
            "2\n",
            "3\n"
          ],
          "name": "stdout"
        }
      ]
    },
    {
      "cell_type": "code",
      "metadata": {
        "id": "bPrS1aj-85Xk",
        "colab_type": "code",
        "colab": {
          "base_uri": "https://localhost:8080/",
          "height": 90
        },
        "outputId": "73399dad-3016-45b5-8eb5-d8561933a017"
      },
      "source": [
        "for word in [\"big\",\"data\",\"en\",\"python\"]:\n",
        "   print(word)"
      ],
      "execution_count": 8,
      "outputs": [
        {
          "output_type": "stream",
          "text": [
            "big\n",
            "data\n",
            "en\n",
            "python\n"
          ],
          "name": "stdout"
        }
      ]
    },
    {
      "cell_type": "code",
      "metadata": {
        "id": "BfSi5-Lg9HYr",
        "colab_type": "code",
        "colab": {
          "base_uri": "https://localhost:8080/",
          "height": 127
        },
        "outputId": "6bb3147b-5bb5-4d9e-bee1-65a11f2eb755"
      },
      "source": [
        "for c in \"python\":\n",
        "  print(c)"
      ],
      "execution_count": 9,
      "outputs": [
        {
          "output_type": "stream",
          "text": [
            "p\n",
            "y\n",
            "t\n",
            "h\n",
            "o\n",
            "n\n"
          ],
          "name": "stdout"
        }
      ]
    },
    {
      "cell_type": "code",
      "metadata": {
        "id": "5i5X0PuU99CT",
        "colab_type": "code",
        "colab": {
          "base_uri": "https://localhost:8080/",
          "height": 127
        },
        "outputId": "30f4fa64-71f6-43b5-a128-8f47415e5fcf"
      },
      "source": [
        "s=\"calcul\"\n",
        "\n",
        "for idx, c in enumerate(s):\n",
        "  print(idx,c)"
      ],
      "execution_count": 10,
      "outputs": [
        {
          "output_type": "stream",
          "text": [
            "0 c\n",
            "1 a\n",
            "2 l\n",
            "3 c\n",
            "4 u\n",
            "5 l\n"
          ],
          "name": "stdout"
        }
      ]
    },
    {
      "cell_type": "code",
      "metadata": {
        "id": "mkjSCKAW-SLV",
        "colab_type": "code",
        "colab": {
          "base_uri": "https://localhost:8080/",
          "height": 127
        },
        "outputId": "ad37ba95-3667-438f-f8b3-27a28e619398"
      },
      "source": [
        "s=\"calcul\"\n",
        "for idx in range (len(s)):\n",
        "  print(idx,s[idx])"
      ],
      "execution_count": 11,
      "outputs": [
        {
          "output_type": "stream",
          "text": [
            "0 c\n",
            "1 a\n",
            "2 l\n",
            "3 c\n",
            "4 u\n",
            "5 l\n"
          ],
          "name": "stdout"
        }
      ]
    },
    {
      "cell_type": "code",
      "metadata": {
        "id": "1POcXuDi-gkk",
        "colab_type": "code",
        "colab": {
          "base_uri": "https://localhost:8080/",
          "height": 127
        },
        "outputId": "966c8f97-c04d-4449-b1ca-fe9a2fac7e08"
      },
      "source": [
        "cnt=0\n",
        "\n",
        "for c in s:\n",
        "   print(cnt, s[cnt])\n",
        "   cnt+=1"
      ],
      "execution_count": 13,
      "outputs": [
        {
          "output_type": "stream",
          "text": [
            "0 c\n",
            "1 a\n",
            "2 l\n",
            "3 c\n",
            "4 u\n",
            "5 l\n"
          ],
          "name": "stdout"
        }
      ]
    },
    {
      "cell_type": "code",
      "metadata": {
        "id": "rhViofcM_Ie8",
        "colab_type": "code",
        "colab": {
          "base_uri": "https://localhost:8080/",
          "height": 35
        },
        "outputId": "f96ef2df-5c38-48b5-838f-c2a75fd04924"
      },
      "source": [
        "l= [x**2 for x in range(0,5)]\n",
        "print(l)"
      ],
      "execution_count": 15,
      "outputs": [
        {
          "output_type": "stream",
          "text": [
            "[0, 1, 4, 9, 16]\n"
          ],
          "name": "stdout"
        }
      ]
    },
    {
      "cell_type": "code",
      "metadata": {
        "id": "4xtijkkY_hqL",
        "colab_type": "code",
        "colab": {
          "base_uri": "https://localhost:8080/",
          "height": 35
        },
        "outputId": "aadbb31a-f7c0-474d-ac8d-a523cc0d58d8"
      },
      "source": [
        "l= list()\n",
        "\n",
        "for x in range (0,5):\n",
        "   l.append(x**2)\n",
        "print(l)"
      ],
      "execution_count": 17,
      "outputs": [
        {
          "output_type": "stream",
          "text": [
            "[0, 1, 4, 9, 16]\n"
          ],
          "name": "stdout"
        }
      ]
    },
    {
      "cell_type": "code",
      "metadata": {
        "id": "--gk27iI_5Te",
        "colab_type": "code",
        "colab": {
          "base_uri": "https://localhost:8080/",
          "height": 90
        },
        "outputId": "b18ef63b-589c-4c7e-9d86-66b416bb530e"
      },
      "source": [
        "i=0\n",
        "\n",
        "while i<5:\n",
        "  print(i)\n",
        "  i+=2\n",
        "print(\"ok\")"
      ],
      "execution_count": 19,
      "outputs": [
        {
          "output_type": "stream",
          "text": [
            "0\n",
            "2\n",
            "4\n",
            "ok\n"
          ],
          "name": "stdout"
        }
      ]
    },
    {
      "cell_type": "code",
      "metadata": {
        "id": "6nJeWf2KAt7s",
        "colab_type": "code",
        "colab": {
          "base_uri": "https://localhost:8080/",
          "height": 35
        },
        "outputId": "d4effb43-c9e6-412a-a7c5-4ae222529f5e"
      },
      "source": [
        "point= (10,20)\n",
        "print (point, type(point))"
      ],
      "execution_count": 20,
      "outputs": [
        {
          "output_type": "stream",
          "text": [
            "(10, 20) <class 'tuple'>\n"
          ],
          "name": "stdout"
        }
      ]
    },
    {
      "cell_type": "code",
      "metadata": {
        "id": "4oqB9POaA7Ap",
        "colab_type": "code",
        "colab": {
          "base_uri": "https://localhost:8080/",
          "height": 35
        },
        "outputId": "a3ba67bd-1e07-4a11-e519-a45bebc4f70b"
      },
      "source": [
        "point[0]"
      ],
      "execution_count": 21,
      "outputs": [
        {
          "output_type": "execute_result",
          "data": {
            "text/plain": [
              "10"
            ]
          },
          "metadata": {
            "tags": []
          },
          "execution_count": 21
        }
      ]
    },
    {
      "cell_type": "code",
      "metadata": {
        "id": "rDaVZ8Z7A9yA",
        "colab_type": "code",
        "colab": {
          "base_uri": "https://localhost:8080/",
          "height": 35
        },
        "outputId": "e3278bdc-cba5-49cd-c220-d8cde77deab8"
      },
      "source": [
        "point[1]"
      ],
      "execution_count": 22,
      "outputs": [
        {
          "output_type": "execute_result",
          "data": {
            "text/plain": [
              "20"
            ]
          },
          "metadata": {
            "tags": []
          },
          "execution_count": 22
        }
      ]
    },
    {
      "cell_type": "code",
      "metadata": {
        "id": "I9__3y98BGja",
        "colab_type": "code",
        "colab": {
          "base_uri": "https://localhost:8080/",
          "height": 54
        },
        "outputId": "27569c40-230a-47ef-cf6c-b60058510d8b"
      },
      "source": [
        "x,y=point\n",
        "\n",
        "print(\"x= %s\" %x)\n",
        "print(\"y=%s\" %y)"
      ],
      "execution_count": 24,
      "outputs": [
        {
          "output_type": "stream",
          "text": [
            "x= 10\n",
            "y=20\n"
          ],
          "name": "stdout"
        }
      ]
    },
    {
      "cell_type": "code",
      "metadata": {
        "id": "2vI0RLi9CZvk",
        "colab_type": "code",
        "colab": {
          "base_uri": "https://localhost:8080/",
          "height": 54
        },
        "outputId": "0abfb01c-fad8-45ca-dba7-9e67302f4960"
      },
      "source": [
        "params= {\"param1\":1.0,\n",
        "         \"param2\":2.0,\n",
        "         \"param3\":3.0}\n",
        "print(params)\n",
        "print(type(params))"
      ],
      "execution_count": 27,
      "outputs": [
        {
          "output_type": "stream",
          "text": [
            "{'param1': 1.0, 'param2': 2.0, 'param3': 3.0}\n",
            "<class 'dict'>\n"
          ],
          "name": "stdout"
        }
      ]
    },
    {
      "cell_type": "code",
      "metadata": {
        "id": "tMHowYtAD0zJ",
        "colab_type": "code",
        "colab": {
          "base_uri": "https://localhost:8080/",
          "height": 54
        },
        "outputId": "c3e2a84b-7ffb-4d17-e417-0b5517d6fc1e"
      },
      "source": [
        "name = input(\"who are you? \")\n",
        "print(\"hello %s\" % (name,))"
      ],
      "execution_count": 28,
      "outputs": [
        {
          "output_type": "stream",
          "text": [
            "who are you? Tchuissi\n",
            "hello Tchuissi\n"
          ],
          "name": "stdout"
        }
      ]
    },
    {
      "cell_type": "code",
      "metadata": {
        "id": "0GSjUH8UEIvs",
        "colab_type": "code",
        "colab": {}
      },
      "source": [
        "def fonction0():\n",
        "  print(\"test\")"
      ],
      "execution_count": 30,
      "outputs": []
    },
    {
      "cell_type": "code",
      "metadata": {
        "id": "lZuFWEPtEUdx",
        "colab_type": "code",
        "colab": {
          "base_uri": "https://localhost:8080/",
          "height": 35
        },
        "outputId": "c257b4e7-4275-4e4f-dfd7-5f4370029645"
      },
      "source": [
        "fonction0()"
      ],
      "execution_count": 31,
      "outputs": [
        {
          "output_type": "stream",
          "text": [
            "test\n"
          ],
          "name": "stdout"
        }
      ]
    },
    {
      "cell_type": "code",
      "metadata": {
        "id": "UQq9xl0cEpWm",
        "colab_type": "code",
        "colab": {}
      },
      "source": [
        "def fonction1(s):\n",
        "  \"\"\"\n",
        "  Affichage d'une chaine et de sa longueur\n",
        "  \"\"\"\n",
        "  print(\"%s est de longueur %d\" % (s,len(s)))\n"
      ],
      "execution_count": 38,
      "outputs": []
    },
    {
      "cell_type": "code",
      "metadata": {
        "id": "d3DICrTxE8gF",
        "colab_type": "code",
        "colab": {
          "base_uri": "https://localhost:8080/",
          "height": 109
        },
        "outputId": "b3991778-3a61-45bc-f94d-e212a5919825"
      },
      "source": [
        "help(fonction1)"
      ],
      "execution_count": 33,
      "outputs": [
        {
          "output_type": "stream",
          "text": [
            "Help on function fonction1 in module __main__:\n",
            "\n",
            "fonction1(s)\n",
            "    Affichage d'une chaine et de sa longueur\n",
            "\n"
          ],
          "name": "stdout"
        }
      ]
    },
    {
      "cell_type": "code",
      "metadata": {
        "id": "MrNdzyx5FEWI",
        "colab_type": "code",
        "colab": {
          "base_uri": "https://localhost:8080/",
          "height": 35
        },
        "outputId": "d3e2870c-41cb-48a2-916f-b37086e363b4"
      },
      "source": [
        "fonction1(s)"
      ],
      "execution_count": 39,
      "outputs": [
        {
          "output_type": "stream",
          "text": [
            "calcul est de longueur 6\n"
          ],
          "name": "stdout"
        }
      ]
    },
    {
      "cell_type": "code",
      "metadata": {
        "id": "hX15zIuJFoPi",
        "colab_type": "code",
        "colab": {
          "base_uri": "https://localhost:8080/",
          "height": 35
        },
        "outputId": "dade60ec-2cc5-4455-b8a1-5590f5aa6a52"
      },
      "source": [
        "fonction1([1,2,3])"
      ],
      "execution_count": 40,
      "outputs": [
        {
          "output_type": "stream",
          "text": [
            "[1, 2, 3] est de longueur 3\n"
          ],
          "name": "stdout"
        }
      ]
    },
    {
      "cell_type": "code",
      "metadata": {
        "id": "NI8kMqPjFwuv",
        "colab_type": "code",
        "colab": {
          "base_uri": "https://localhost:8080/",
          "height": 35
        },
        "outputId": "d1a6a74a-4f46-410c-c1fe-d6dd65fb0322"
      },
      "source": [
        "fonction1(\"test\")"
      ],
      "execution_count": 41,
      "outputs": [
        {
          "output_type": "stream",
          "text": [
            "test est de longueur 4\n"
          ],
          "name": "stdout"
        }
      ]
    },
    {
      "cell_type": "code",
      "metadata": {
        "id": "CMji6jSNFz4T",
        "colab_type": "code",
        "colab": {
          "base_uri": "https://localhost:8080/",
          "height": 35
        },
        "outputId": "776d0e0b-a1cd-4c5d-afd2-e0b02a9b21cb"
      },
      "source": [
        "fonction1(\"je t'aime Tchuissi\")"
      ],
      "execution_count": 42,
      "outputs": [
        {
          "output_type": "stream",
          "text": [
            "je t'aime Tchuissi est de longueur 18\n"
          ],
          "name": "stdout"
        }
      ]
    },
    {
      "cell_type": "code",
      "metadata": {
        "id": "eoZiSKchGCJu",
        "colab_type": "code",
        "colab": {
          "base_uri": "https://localhost:8080/",
          "height": 54
        },
        "outputId": "a752067f-7d00-45e1-c57d-2256bca9b2a3"
      },
      "source": [
        "print(fonction1(\"test\"))"
      ],
      "execution_count": 43,
      "outputs": [
        {
          "output_type": "stream",
          "text": [
            "test est de longueur 4\n",
            "None\n"
          ],
          "name": "stdout"
        }
      ]
    },
    {
      "cell_type": "code",
      "metadata": {
        "id": "3Tyhb2KGGHpf",
        "colab_type": "code",
        "colab": {}
      },
      "source": [
        "def square(x):\n",
        "  \"\"\"\n",
        "  retourne le carré de x\n",
        "  \"\"\"\n",
        "  return x**2"
      ],
      "execution_count": 44,
      "outputs": []
    },
    {
      "cell_type": "code",
      "metadata": {
        "id": "P_dPf1bTGTpr",
        "colab_type": "code",
        "colab": {
          "base_uri": "https://localhost:8080/",
          "height": 35
        },
        "outputId": "61a271ef-12d2-4ce7-fa55-d2053ffd1f0c"
      },
      "source": [
        "print(square(4))"
      ],
      "execution_count": 45,
      "outputs": [
        {
          "output_type": "stream",
          "text": [
            "16\n"
          ],
          "name": "stdout"
        }
      ]
    },
    {
      "cell_type": "code",
      "metadata": {
        "id": "Y_HwcbDnGhlH",
        "colab_type": "code",
        "colab": {}
      },
      "source": [
        "def powers(x):\n",
        "  \"\"\"\n",
        "  Retourne les premières puissances de x.\n",
        "  \"\"\"\n",
        "  return x**2, x**3,x**4"
      ],
      "execution_count": 46,
      "outputs": []
    },
    {
      "cell_type": "code",
      "metadata": {
        "id": "EDmNoM2iGslm",
        "colab_type": "code",
        "colab": {
          "base_uri": "https://localhost:8080/",
          "height": 72
        },
        "outputId": "43500f01-3634-4a3a-a18e-f100c2cd29c2"
      },
      "source": [
        "out= powers (3)\n",
        "print(type(out))\n",
        "print(len(out))\n",
        "print(out[1])"
      ],
      "execution_count": 47,
      "outputs": [
        {
          "output_type": "stream",
          "text": [
            "<class 'tuple'>\n",
            "3\n",
            "27\n"
          ],
          "name": "stdout"
        }
      ]
    }
  ]
}