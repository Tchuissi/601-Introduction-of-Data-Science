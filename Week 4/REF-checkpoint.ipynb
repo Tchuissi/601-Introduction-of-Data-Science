{
 "cells": [
  {
   "cell_type": "markdown",
   "metadata": {},
   "source": [
    "## Week 4: HTML in XML"
   ]
  },
  {
   "cell_type": "markdown",
   "metadata": {},
   "source": [
    "I provide you with a compressed XML file. Some of the fields contain HTML.\n",
    "\n",
    "    1. Extract the XML from the .zip file. In Python, use a module to parse the XML (do not write an XML parser)\n",
    "    2. Using Python, extract the HTML from the XML. Then use BeautifulSoup4 to parse the HTML \n",
    "    3. For each HTML page, report the number of links (URLs with the tag < a href=\"URL\">text) in each HTML page \n",
    "    4. Submit a single Jupyter notebook that parses the XML file and produces the count of links per HTML file.\n",
    "\n",
    "Advanced students: if you complete the assignment above and are are seeking a challenge, use an alternative method (i.e., regular expressions or Python's find) to validate the count of HTML links per page reported by BeautifulSoup4.\n",
    "\n",
    "When you are done with the assignment or have spent an hour on the homework (whichever comes first), please send me an email indicating which of these you have reached\n",
    "\n",
    "To: benpayne@umbc.edu\n",
    "Subject: Data 601 Spring 2020 Week 3 HTML in XML\n",
    "Examples of content: \"I have spent 1 hour on the homework\" or \"I am done with the assignment in 20 minutes.\"\n",
    "If you've not completed the homework, please specify what your status is.\n",
    "\n",
    "xml_containing_html.xml.zip"
   ]
  },
  {
   "cell_type": "markdown",
   "metadata": {},
   "source": [
    "Reference for reading XML: https://docs.python.org/2/library/xml.etree.elementtree.html"
   ]
  },
  {
   "cell_type": "code",
   "execution_count": null,
   "metadata": {},
   "outputs": [],
   "source": [
    "import xml.etree.ElementTree as ET\n",
    "tree = ET.parse('xml_containing_html.xml')\n",
    "root = tree.getroot()"
   ]
  },
  {
   "cell_type": "raw",
   "metadata": {},
   "source": [
    "#root"
   ]
  },
  {
   "cell_type": "markdown",
   "metadata": {},
   "source": [
    "Reference for BeautifulSoup: week_03_notebooks/get_2_beautifulsoup.ipynb"
   ]
  },
  {
   "cell_type": "code",
   "execution_count": null,
   "metadata": {},
   "outputs": [],
   "source": [
    "from bs4 import BeautifulSoup"
   ]
  },
  {
   "cell_type": "markdown",
   "metadata": {},
   "source": [
    "Initializing index and counter"
   ]
  },
  {
   "cell_type": "code",
   "execution_count": null,
   "metadata": {},
   "outputs": [],
   "source": [
    "indx1 = 0\n",
    "indx2 = 0\n",
    "indx3 = 0\n",
    "count1 = 0"
   ]
  },
  {
   "cell_type": "markdown",
   "metadata": {},
   "source": [
    "Count 2 was used to check total count of href tags"
   ]
  },
  {
   "cell_type": "raw",
   "metadata": {},
   "source": [
    "#count2 = 0"
   ]
  },
  {
   "cell_type": "markdown",
   "metadata": {},
   "source": [
    "Reference for accessing href: week_03_notebooks/get_2_beautifulsoup.ipynb"
   ]
  },
  {
   "cell_type": "code",
   "execution_count": null,
   "metadata": {},
   "outputs": [],
   "source": [
    "for indx1 in root:\n",
    "    #print(indx1)\n",
    "    for indx2 in indx1:\n",
    "        #print(indx2)\n",
    "        if(indx2.tag=='content'):\n",
    "            #print(indx2.text)\n",
    "            soup = BeautifulSoup(indx2.text, 'html.parser')\n",
    "            #print(soup.prettify())\n",
    "            for indx3 in soup.find_all('a'):\n",
    "                #print(indx3.get('href'))\n",
    "                count1 += 1\n",
    "                #count2 += 1\n",
    "    print(\"\\nHTML count under Title \" + str(soup.title.text) + \" = \" + str(count1))\n",
    "    count1 = 0"
   ]
  },
  {
   "cell_type": "code",
   "execution_count": null,
   "metadata": {},
   "outputs": [],
   "source": []
  }
 ],
 "metadata": {
  "kernelspec": {
   "display_name": "Python 3",
   "language": "python",
   "name": "python3"
  },
  "language_info": {
   "codemirror_mode": {
    "name": "ipython",
    "version": 3
   },
   "file_extension": ".py",
   "mimetype": "text/x-python",
   "name": "python",
   "nbconvert_exporter": "python",
   "pygments_lexer": "ipython3",
   "version": "3.7.4"
  }
 },
 "nbformat": 4,
 "nbformat_minor": 2
}
