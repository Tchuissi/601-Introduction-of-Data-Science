{
 "cells": [
  {
   "cell_type": "markdown",
   "metadata": {},
   "source": [
    "Figure out encoding for a text file using chardet\n",
    "\n",
    "https://chardet.readthedocs.io/en/latest/usage.html"
   ]
  },
  {
   "cell_type": "code",
   "execution_count": 1,
   "metadata": {},
   "outputs": [],
   "source": [
    "import chardet"
   ]
  },
  {
   "cell_type": "markdown",
   "metadata": {},
   "source": [
    "open a CSV containing text, read the contents"
   ]
  },
  {
   "cell_type": "code",
   "execution_count": 3,
   "metadata": {},
   "outputs": [],
   "source": [
    "with open('../data_601_curriculum.csv','rb') as fraw:\n",
    "    file_content = fraw.read()"
   ]
  },
  {
   "cell_type": "markdown",
   "metadata": {},
   "source": [
    "take a look at what the variable is storing:"
   ]
  },
  {
   "cell_type": "code",
   "execution_count": 4,
   "metadata": {},
   "outputs": [
    {
     "data": {
      "text/plain": [
       "b'\\xef\\xbb\\xbfClass ,Week,Title,Topics,Before Class Reading,\\r\\n01/28/20,01,Overview of Data Science; Docker; Data structures ,\"Python and Jupyter; CSV, JSON, XML \",none,\\r\\n02/04/20,02,Python in Jupyter ,\"Lists, dictionaries; series, dataframes; Visualization\",AtBSwP ch 1; LtPwP ch 1,\\r\\n02/11/20,03,Getting data; Ethics and Legality ,Science; Scraping;\\xc2\\xa0 negotiation,watch https://youtu.be/V0ucZ4ctof8,\\r\\n02/18/20,04,Data cleanup ,\"anomalies, outliers, empty cells, data smoothing\",,\\r\\n02/25/20,05,Automation; Reports ,\"manipulating Excel from Python; generaring webpages with Flask, sending email from Python\",read https://www.theatlantic.com/technology/archive/2018/10/agents-of-automation/568795/?single_page=true and https://news.ycombinator.com/item?id=18120322,\\r\\n03/03/20,06,Project 1 presentations: data characterization ,,,\\r\\n03/10/20,07,Math,\"Statistics, Probability\",\"Introduction to Probability, ch 1; also \"\"Can Graphics Tell Lies? A Tutorial on How To Visualize Your Data\"\"\",\\r\\n03/17/20,08,time series analysis,,,\\r\\n03/24/20,09,Clustering ,K-means,\"Mining Massive Datasets, ch 1\",\\r\\n03/31/20,10,Property graphs ,,,\\r\\n04/07/20,11,Project 2: in class code reproducibility,,,\\r\\n04/14/20,12,\"Scaling up, estimation\",,,\\r\\n04/21/20,13,\"Concurrency, Elasticity\",,\"AoAiSaE, ch 1\",\\r\\n04/28/20,14,\"Cost/benefit, Ethics\",,,\\r\\n05/05/20,15,feature engineering; voluntary in-class presentations,,,\\r\\n05/12/20,16,Study day (no lecture),,,\\r\\n05/19/20,17,Final Project Presentations ,,,'"
      ]
     },
     "execution_count": 4,
     "metadata": {},
     "output_type": "execute_result"
    }
   ],
   "source": [
    "file_content"
   ]
  },
  {
   "cell_type": "markdown",
   "metadata": {},
   "source": [
    "use `chardet` to deterine encoding of file"
   ]
  },
  {
   "cell_type": "code",
   "execution_count": 5,
   "metadata": {},
   "outputs": [
    {
     "data": {
      "text/plain": [
       "{'encoding': 'UTF-8-SIG', 'confidence': 1.0, 'language': ''}"
      ]
     },
     "execution_count": 5,
     "metadata": {},
     "output_type": "execute_result"
    }
   ],
   "source": [
    "chardet.detect(file_content)"
   ]
  },
  {
   "cell_type": "markdown",
   "metadata": {},
   "source": [
    "<BR>\n",
    "<BR>\n",
    "<BR>\n",
    "<BR>\n",
    "\n",
    "Using 'r' when opening the file leads chardet to complain:"
   ]
  },
  {
   "cell_type": "code",
   "execution_count": 7,
   "metadata": {},
   "outputs": [],
   "source": [
    "with open('../data_601_curriculum.csv','r') as fraw:\n",
    "    file_content = fraw.read()"
   ]
  },
  {
   "cell_type": "code",
   "execution_count": 8,
   "metadata": {},
   "outputs": [
    {
     "data": {
      "text/plain": [
       "'\\ufeffClass ,Week,Title,Topics,Before Class Reading,\\n01/28/20,01,Overview of Data Science; Docker; Data structures ,\"Python and Jupyter; CSV, JSON, XML \",none,\\n02/04/20,02,Python in Jupyter ,\"Lists, dictionaries; series, dataframes; Visualization\",AtBSwP ch 1; LtPwP ch 1,\\n02/11/20,03,Getting data; Ethics and Legality ,Science; Scraping;\\xa0 negotiation,watch https://youtu.be/V0ucZ4ctof8,\\n02/18/20,04,Data cleanup ,\"anomalies, outliers, empty cells, data smoothing\",,\\n02/25/20,05,Automation; Reports ,\"manipulating Excel from Python; generaring webpages with Flask, sending email from Python\",read https://www.theatlantic.com/technology/archive/2018/10/agents-of-automation/568795/?single_page=true and https://news.ycombinator.com/item?id=18120322,\\n03/03/20,06,Project 1 presentations: data characterization ,,,\\n03/10/20,07,Math,\"Statistics, Probability\",\"Introduction to Probability, ch 1; also \"\"Can Graphics Tell Lies? A Tutorial on How To Visualize Your Data\"\"\",\\n03/17/20,08,time series analysis,,,\\n03/24/20,09,Clustering ,K-means,\"Mining Massive Datasets, ch 1\",\\n03/31/20,10,Property graphs ,,,\\n04/07/20,11,Project 2: in class code reproducibility,,,\\n04/14/20,12,\"Scaling up, estimation\",,,\\n04/21/20,13,\"Concurrency, Elasticity\",,\"AoAiSaE, ch 1\",\\n04/28/20,14,\"Cost/benefit, Ethics\",,,\\n05/05/20,15,feature engineering; voluntary in-class presentations,,,\\n05/12/20,16,Study day (no lecture),,,\\n05/19/20,17,Final Project Presentations ,,,'"
      ]
     },
     "execution_count": 8,
     "metadata": {},
     "output_type": "execute_result"
    }
   ],
   "source": [
    "file_content"
   ]
  },
  {
   "cell_type": "markdown",
   "metadata": {},
   "source": [
    "Note the missing \"b\" at the start of the output"
   ]
  },
  {
   "cell_type": "code",
   "execution_count": 9,
   "metadata": {},
   "outputs": [
    {
     "ename": "TypeError",
     "evalue": "Expected object of type bytes or bytearray, got: <class 'str'>",
     "output_type": "error",
     "traceback": [
      "\u001b[0;31m---------------------------------------------------------------------------\u001b[0m",
      "\u001b[0;31mTypeError\u001b[0m                                 Traceback (most recent call last)",
      "\u001b[0;32m<ipython-input-9-4cbab2a84b47>\u001b[0m in \u001b[0;36m<module>\u001b[0;34m\u001b[0m\n\u001b[0;32m----> 1\u001b[0;31m \u001b[0mchardet\u001b[0m\u001b[0;34m.\u001b[0m\u001b[0mdetect\u001b[0m\u001b[0;34m(\u001b[0m\u001b[0mfile_content\u001b[0m\u001b[0;34m)\u001b[0m\u001b[0;34m\u001b[0m\u001b[0;34m\u001b[0m\u001b[0m\n\u001b[0m",
      "\u001b[0;32m/opt/anaconda3/lib/python3.7/site-packages/chardet/__init__.py\u001b[0m in \u001b[0;36mdetect\u001b[0;34m(byte_str)\u001b[0m\n\u001b[1;32m     32\u001b[0m         \u001b[0;32mif\u001b[0m \u001b[0;32mnot\u001b[0m \u001b[0misinstance\u001b[0m\u001b[0;34m(\u001b[0m\u001b[0mbyte_str\u001b[0m\u001b[0;34m,\u001b[0m \u001b[0mbytes\u001b[0m\u001b[0;34m)\u001b[0m\u001b[0;34m:\u001b[0m\u001b[0;34m\u001b[0m\u001b[0;34m\u001b[0m\u001b[0m\n\u001b[1;32m     33\u001b[0m             raise TypeError('Expected object of type bytes or bytearray, got: '\n\u001b[0;32m---> 34\u001b[0;31m                             '{0}'.format(type(byte_str)))\n\u001b[0m\u001b[1;32m     35\u001b[0m         \u001b[0;32melse\u001b[0m\u001b[0;34m:\u001b[0m\u001b[0;34m\u001b[0m\u001b[0;34m\u001b[0m\u001b[0m\n\u001b[1;32m     36\u001b[0m             \u001b[0mbyte_str\u001b[0m \u001b[0;34m=\u001b[0m \u001b[0mbytearray\u001b[0m\u001b[0;34m(\u001b[0m\u001b[0mbyte_str\u001b[0m\u001b[0;34m)\u001b[0m\u001b[0;34m\u001b[0m\u001b[0;34m\u001b[0m\u001b[0m\n",
      "\u001b[0;31mTypeError\u001b[0m: Expected object of type bytes or bytearray, got: <class 'str'>"
     ]
    }
   ],
   "source": [
    "chardet.detect(file_content)"
   ]
  },
  {
   "cell_type": "markdown",
   "metadata": {},
   "source": [
    "Opening files:\n",
    "\n",
    "In text mode ('r'), Python will parse the file according to the text encoding you give it. If you don't give one, Python uses a platform-dependent default.<BR>\n",
    "Then read() will give you a str. \n",
    "\n",
    "In binary ('rb') mode, Python does not assume that the file contains things that can reasonably be parsed as characters, and read() gives you a bytes object.\n",
    "\n",
    "Also, in Python 3, the universal newlines (the translating between '\\n' and platform-specific newline conventions so you don't have to care about them) is available for text-mode files on any platform, not just Windows.\n",
    "    \n",
    "<a href=\"https://stackoverflow.com/questions/9644110/difference-between-parsing-a-text-file-in-r-and-rb-mode\">source</a>; see also <a href=\"https://docs.python.org/3/tutorial/inputoutput.html#reading-and-writing-files\">official docs</a>."
   ]
  },
  {
   "cell_type": "code",
   "execution_count": null,
   "metadata": {},
   "outputs": [],
   "source": []
  }
 ],
 "metadata": {
  "kernelspec": {
   "display_name": "Python 3",
   "language": "python",
   "name": "python3"
  },
  "language_info": {
   "codemirror_mode": {
    "name": "ipython",
    "version": 3
   },
   "file_extension": ".py",
   "mimetype": "text/x-python",
   "name": "python",
   "nbconvert_exporter": "python",
   "pygments_lexer": "ipython3",
   "version": "3.7.4"
  }
 },
 "nbformat": 4,
 "nbformat_minor": 2
}
