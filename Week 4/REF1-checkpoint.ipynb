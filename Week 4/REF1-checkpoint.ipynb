{
 "cells": [
  {
   "cell_type": "markdown",
   "metadata": {
    "colab_type": "text",
    "id": "EiaYbUsk0-Em"
   },
   "source": [
    "# Week 4 Assignment: HTML in XML\n",
    "Given a XML file with HTML content in it:\n",
    "\n",
    "1.   Extract the XML from the .zip file. In Python, use a module to parse the XML (do not write an XML parser)​\n",
    "2.   Using Python, extract the HTML from the XML. Then use BeautifulSoup4 to parse the HTML\n",
    "3.   For each HTML page, report the number of links (URLs with the tag < a href=\"URL\">text) in each HTML page \n",
    "4.   For each HTML page, report the number of links (URLs with the tag < a href=\"URL\">text) in each HTML page \n",
    "\n"
   ]
  },
  {
   "cell_type": "markdown",
   "metadata": {
    "colab_type": "text",
    "id": "rgA1f04c2P94"
   },
   "source": [
    "### Importing required libraries"
   ]
  },
  {
   "cell_type": "code",
   "execution_count": 3,
   "metadata": {
    "colab": {},
    "colab_type": "code",
    "id": "w0ruRZyarXFF"
   },
   "outputs": [],
   "source": [
    "from xml.dom import minidom\n",
    "from bs4 import BeautifulSoup"
   ]
  },
  {
   "cell_type": "markdown",
   "metadata": {
    "colab_type": "text",
    "id": "chjmSSE1r7w9"
   },
   "source": [
    "Loading and parsing the XML file using minidom"
   ]
  },
  {
   "cell_type": "code",
   "execution_count": 4,
   "metadata": {
    "colab": {},
    "colab_type": "code",
    "id": "nLlIEg3grjTv"
   },
   "outputs": [],
   "source": [
    "xml_data = minidom.parse(\"xml_containing_html.xml\")"
   ]
  },
  {
   "cell_type": "markdown",
   "metadata": {
    "colab_type": "text",
    "id": "JXryWa0151-x"
   },
   "source": [
    "Extracting HTML data from the XML file"
   ]
  },
  {
   "cell_type": "code",
   "execution_count": 5,
   "metadata": {
    "colab": {},
    "colab_type": "code",
    "id": "bCjnUwoXsHBb"
   },
   "outputs": [],
   "source": [
    "# I have watched a youtube tutorial on how to parse and find required things in a XML file.\n",
    "# Here's the link to the video: https://www.youtube.com/watch?v=r6dyk68gymk\n",
    "tagname = xml_data.getElementsByTagName('content')\n",
    "html_data = []\n",
    "for i in tagname:\n",
    "    html_data.append(i.firstChild.data)"
   ]
  },
  {
   "cell_type": "markdown",
   "metadata": {
    "colab_type": "text",
    "id": "XghcNohO5_Uf"
   },
   "source": [
    "Parsing HTML data using BeautifulSoup and counting number of links in the HTML page"
   ]
  },
  {
   "cell_type": "code",
   "execution_count": 6,
   "metadata": {
    "colab": {
     "base_uri": "https://localhost:8080/",
     "height": 1000
    },
    "colab_type": "code",
    "id": "wG02JRzdu5gG",
    "outputId": "8b74a9cb-0283-4e64-80df-3e71dc4b6fd5"
   },
   "outputs": [
    {
     "name": "stdout",
     "output_type": "stream",
     "text": [
      "Number of links in HTML page 1 are 5\n",
      "Number of links in HTML page 2 are 5\n",
      "Number of links in HTML page 3 are 4\n",
      "Number of links in HTML page 4 are 5\n",
      "Number of links in HTML page 5 are 5\n",
      "Number of links in HTML page 6 are 4\n",
      "Number of links in HTML page 7 are 4\n",
      "Number of links in HTML page 8 are 3\n",
      "Number of links in HTML page 9 are 3\n",
      "Number of links in HTML page 10 are 4\n",
      "Number of links in HTML page 11 are 6\n",
      "Number of links in HTML page 12 are 3\n",
      "Number of links in HTML page 13 are 5\n",
      "Number of links in HTML page 14 are 5\n",
      "Number of links in HTML page 15 are 4\n",
      "Number of links in HTML page 16 are 4\n",
      "Number of links in HTML page 17 are 5\n",
      "Number of links in HTML page 18 are 5\n",
      "Number of links in HTML page 19 are 3\n",
      "Number of links in HTML page 20 are 3\n",
      "Number of links in HTML page 21 are 4\n",
      "Number of links in HTML page 22 are 3\n",
      "Number of links in HTML page 23 are 3\n",
      "Number of links in HTML page 24 are 4\n",
      "Number of links in HTML page 25 are 4\n",
      "Number of links in HTML page 26 are 3\n",
      "Number of links in HTML page 27 are 5\n",
      "Number of links in HTML page 28 are 4\n",
      "Number of links in HTML page 29 are 4\n",
      "Number of links in HTML page 30 are 3\n",
      "Number of links in HTML page 31 are 3\n",
      "Number of links in HTML page 32 are 5\n",
      "Number of links in HTML page 33 are 4\n",
      "Number of links in HTML page 34 are 3\n",
      "Number of links in HTML page 35 are 5\n",
      "Number of links in HTML page 36 are 5\n",
      "Number of links in HTML page 37 are 4\n",
      "Number of links in HTML page 38 are 5\n",
      "Number of links in HTML page 39 are 4\n",
      "Number of links in HTML page 40 are 4\n",
      "Number of links in HTML page 41 are 4\n",
      "Number of links in HTML page 42 are 3\n",
      "Number of links in HTML page 43 are 6\n",
      "Number of links in HTML page 44 are 6\n",
      "Number of links in HTML page 45 are 4\n",
      "Number of links in HTML page 46 are 3\n",
      "Number of links in HTML page 47 are 4\n",
      "Number of links in HTML page 48 are 4\n",
      "Number of links in HTML page 49 are 4\n",
      "Number of links in HTML page 50 are 3\n",
      "Number of links in HTML page 51 are 4\n",
      "Number of links in HTML page 52 are 4\n",
      "Number of links in HTML page 53 are 5\n",
      "Number of links in HTML page 54 are 3\n",
      "Number of links in HTML page 55 are 4\n",
      "Number of links in HTML page 56 are 4\n",
      "Number of links in HTML page 57 are 3\n",
      "Number of links in HTML page 58 are 5\n",
      "Number of links in HTML page 59 are 6\n",
      "Number of links in HTML page 60 are 3\n",
      "Number of links in HTML page 61 are 3\n",
      "Number of links in HTML page 62 are 4\n",
      "Number of links in HTML page 63 are 5\n",
      "Number of links in HTML page 64 are 4\n",
      "Number of links in HTML page 65 are 4\n",
      "Number of links in HTML page 66 are 3\n",
      "Number of links in HTML page 67 are 3\n",
      "Number of links in HTML page 68 are 5\n",
      "Number of links in HTML page 69 are 6\n",
      "Number of links in HTML page 70 are 4\n",
      "Number of links in HTML page 71 are 4\n",
      "Number of links in HTML page 72 are 5\n",
      "Number of links in HTML page 73 are 3\n",
      "Number of links in HTML page 74 are 5\n",
      "Number of links in HTML page 75 are 4\n",
      "Number of links in HTML page 76 are 3\n",
      "Number of links in HTML page 77 are 5\n",
      "Number of links in HTML page 78 are 4\n",
      "Number of links in HTML page 79 are 3\n",
      "Number of links in HTML page 80 are 3\n",
      "Number of links in HTML page 81 are 3\n",
      "Number of links in HTML page 82 are 4\n",
      "Number of links in HTML page 83 are 3\n",
      "Number of links in HTML page 84 are 4\n",
      "Number of links in HTML page 85 are 4\n",
      "Number of links in HTML page 86 are 3\n",
      "Number of links in HTML page 87 are 4\n",
      "Number of links in HTML page 88 are 4\n",
      "Number of links in HTML page 89 are 5\n",
      "Number of links in HTML page 90 are 5\n",
      "Number of links in HTML page 91 are 3\n",
      "Number of links in HTML page 92 are 3\n",
      "Number of links in HTML page 93 are 5\n",
      "Number of links in HTML page 94 are 5\n",
      "Number of links in HTML page 95 are 5\n",
      "Number of links in HTML page 96 are 3\n",
      "Number of links in HTML page 97 are 5\n",
      "Number of links in HTML page 98 are 5\n",
      "Number of links in HTML page 99 are 5\n",
      "Number of links in HTML page 100 are 4\n",
      "Number of links in HTML page 101 are 3\n",
      "Number of links in HTML page 102 are 4\n",
      "Number of links in HTML page 103 are 3\n",
      "Number of links in HTML page 104 are 3\n",
      "Number of links in HTML page 105 are 5\n",
      "Number of links in HTML page 106 are 4\n",
      "Number of links in HTML page 107 are 3\n",
      "Number of links in HTML page 108 are 3\n",
      "Number of links in HTML page 109 are 3\n",
      "Number of links in HTML page 110 are 4\n",
      "Number of links in HTML page 111 are 4\n",
      "Number of links in HTML page 112 are 3\n",
      "Number of links in HTML page 113 are 5\n",
      "Number of links in HTML page 114 are 4\n",
      "Number of links in HTML page 115 are 4\n",
      "Number of links in HTML page 116 are 4\n",
      "Number of links in HTML page 117 are 5\n",
      "Number of links in HTML page 118 are 4\n",
      "Number of links in HTML page 119 are 4\n",
      "Number of links in HTML page 120 are 5\n",
      "Number of links in HTML page 121 are 3\n",
      "Number of links in HTML page 122 are 3\n",
      "Number of links in HTML page 123 are 4\n",
      "Number of links in HTML page 124 are 3\n",
      "Number of links in HTML page 125 are 4\n"
     ]
    }
   ],
   "source": [
    "# For this cell I have used the code that you have showed in the class to print \n",
    "# the html links in the page as reference.\n",
    "a=0\n",
    "b=0\n",
    "for x in html_data:\n",
    "    soup = BeautifulSoup(x,'html.parser')\n",
    "    for link in soup.find_all('a'):\n",
    "        a = a+1\n",
    "    b=b+1\n",
    "    print(\"Number of links in HTML page\", b,\"are\",a)\n",
    "    a=0"
   ]
  },
  {
   "cell_type": "code",
   "execution_count": null,
   "metadata": {
    "colab": {},
    "colab_type": "code",
    "id": "NCv_jqehxhn7"
   },
   "outputs": [],
   "source": []
  }
 ],
 "metadata": {
  "accelerator": "GPU",
  "colab": {
   "collapsed_sections": [],
   "name": "601 Week 3 Assignment.ipynb",
   "provenance": []
  },
  "kernelspec": {
   "display_name": "Python 3",
   "language": "python",
   "name": "python3"
  },
  "language_info": {
   "codemirror_mode": {
    "name": "ipython",
    "version": 3
   },
   "file_extension": ".py",
   "mimetype": "text/x-python",
   "name": "python",
   "nbconvert_exporter": "python",
   "pygments_lexer": "ipython3",
   "version": "3.7.4"
  }
 },
 "nbformat": 4,
 "nbformat_minor": 2
}
